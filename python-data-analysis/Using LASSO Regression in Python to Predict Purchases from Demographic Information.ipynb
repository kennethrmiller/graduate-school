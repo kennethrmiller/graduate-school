{
 "cells": [
  {
   "cell_type": "markdown",
   "metadata": {},
   "source": [
    "# Using LASSO Regression on Sales Data to Predict Purchases\n",
    "## Kenneth R. Miller\n",
    "#### With sales data for Bobo Bars (a healthfood oat bar), I used LASSO regression to predict the demographics most likely to purchase Bobo Bars. The data (posted in the github repository) has number of purchases and various demographic information in census variables."
   ]
  },
  {
   "cell_type": "markdown",
   "metadata": {},
   "source": [
    "#### Importing the data and cleaning it."
   ]
  },
  {
   "cell_type": "code",
   "execution_count": 42,
   "metadata": {},
   "outputs": [],
   "source": [
    "import pandas as pd\n",
    "\n",
    "# The depreciation and convergence warnings are annoying, so this ignores them\n",
    "def warn(*args, **kwargs):\n",
    "    pass\n",
    "import warnings\n",
    "warnings.warn = warn\n",
    "\n",
    "from sklearn.cross_validation import train_test_split\n",
    "from sklearn.linear_model import LassoLarsCV\n",
    "from sklearn.metrics import mean_squared_error\n",
    "\n",
    "# Data can be found in the github repository\n",
    "lassodf = pd.read_csv(\"finalmaster-ratios.csv\")\n",
    "# Creating a list of predictors\n",
    "varnames = list(lassodf.columns.values)\n",
    "\n",
    "# The first variable in the list is the outcome variable, \n",
    "# and the next 8 are repetitive of other variables, so we need to exclude them.\n",
    "del varnames[0:8]\n",
    "\n",
    "# Assigning predictors and target\n",
    "predictors = lassodf[varnames]\n",
    "target = lassodf['# Purchases']"
   ]
  },
  {
   "cell_type": "markdown",
   "metadata": {},
   "source": [
    "#### Creating the LASSO model."
   ]
  },
  {
   "cell_type": "code",
   "execution_count": 43,
   "metadata": {},
   "outputs": [],
   "source": [
    "# Predict train, predict test, target train, target test, split 70/30 train/test\n",
    "pred_train, pred_test, tar_train, tar_test = train_test_split(\n",
    "        predictors, target, test_size = .3, random_state = 123\n",
    "        )\n",
    "\n",
    "# Defining the model as a LASSO model with 10-fold cross validation.\n",
    "# This makes sure we aren't getting non-random ordering in our test/train split\n",
    "model = LassoLarsCV(fit_intercept = True, cv = 10, precompute = False)\n",
    "model.fit(predictors, target)\n",
    "\n",
    "# Creating a data frame of the predictors \n",
    "predictors_model = pd.DataFrame(varnames)\n",
    "# Creating a column label for the predictors called 'label'\n",
    "predictors_model.columns = ['label']\n",
    "# Assigning the coefficients from the model to each predictor\n",
    "predictors_model['coeff'] = model.coef_"
   ]
  },
  {
   "cell_type": "markdown",
   "metadata": {},
   "source": [
    "#### Using a for loop to print the coefficients of the predictors that actually matter."
   ]
  },
  {
   "cell_type": "code",
   "execution_count": 44,
   "metadata": {},
   "outputs": [
    {
     "name": "stdout",
     "output_type": "stream",
     "text": [
      "['B01001014' 0.7739123853299034]\n",
      "['B01001036' 1.9784044386558475]\n",
      "['B01001037' 2.0572434376705573]\n",
      "['B01001038' 1.8768425232001016]\n",
      "['B01001048' 0.13689258036664992]\n",
      "['B02001005' 1.0964526416628348]\n",
      "['B02001007' 0.0033429478657402553]\n",
      "['B13014026' 0.6980574814546774]\n",
      "['B13014027' 1.4981329346451273]\n",
      "['B13016008' 1.0946731295462726]\n",
      "['B15002027' 4.1881957997050305]\n",
      "['B19001017' 1.8635089505684308]\n",
      "\n",
      "\n",
      "Male 40 to 44 Years: 0.7739123853299034\n",
      "Female 30 to 34 Years: 1.9784044386558475\n",
      "Female 35 to 39 Years: 2.0572434376705573\n",
      "Female 40 to 44 Years: 1.8768425232001016\n",
      "Female 80 to 84 Years: 0.13689258036664992\n",
      "Asian:\t\t\t 1.0964526416628348\n",
      "Other Race:\t\t\t 0.0033429478657402553\n",
      "Unmarried women with Bachelor Degree: 0.6980574814546774\n",
      "Unmarried women with Graduate/Professional Degree: 1.4981329346451273\n",
      "Women 40 to 44 Years birth past year: 1.0946731295462726\n",
      "Female 25+ with less than high school: 4.1881957997050305\n",
      "Households making $200k+: 1.8635089505684308\n"
     ]
    }
   ],
   "source": [
    "# Creating an empty list to hold the coefficients and their labels\n",
    "coeflist = []\n",
    "# Iterating over row in the predictor model dataframe\n",
    "    # iterrows iterates over each row and returns both the index and the row\n",
    "for index, row in predictors_model.iterrows():\n",
    "    # If the regression coefficient in each row is greater than zero, print it out\n",
    "    if row['coeff'] > 0:\n",
    "        print(row.values)\n",
    "        coeflist.append(row.values[0]) \n",
    "        coeflist.append(row.values[1])\n",
    "# This prints out the census code and the coefficient. I've made this more readable below.\n",
    "# Coefficients with actual names\n",
    "coeffs = ['Male 40 to 44 Years', 0.7739123853299034,\n",
    "'Female 30 to 34 Years', 1.9784044386558475,\n",
    "'Female 35 to 39 Years', 2.0572434376705573,\n",
    "'Female 40 to 44 Years', 1.8768425232001016,\n",
    "'Female 80 to 84 Years', 0.13689258036664992,\n",
    "'Asian', 1.0964526416628348,\n",
    "'Other Race', 0.0033429478657402553,\n",
    "'Unmarried women with Bachelor Degree', 0.6980574814546774,\n",
    "'Unmarried women with Graduate/Professional Degree', 1.4981329346451273,\n",
    "'Women 40 to 44 Years birth past year', 1.0946731295462726,\n",
    "'Female 25+ with less than high school', 4.1881957997050305,\n",
    "'Households making $200k+', 1.8635089505684308]   \n",
    "print('\\n')\n",
    "for item in range(len(coeffs)):\n",
    "    if item % 2 == 0:\n",
    "        if len(coeffs[item]) < 15:\n",
    "            print(coeffs[item] + \":\\t\\t\\t \" + str(coeffs[item+1]))\n",
    "        else:\n",
    "            print(coeffs[item] + \": \" + str(coeffs[item+1]))\n",
    "\n",
    "    \n",
    "    "
   ]
  },
  {
   "cell_type": "markdown",
   "metadata": {},
   "source": [
    "#### Printing the output in full sentences for fun."
   ]
  },
  {
   "cell_type": "code",
   "execution_count": 45,
   "metadata": {},
   "outputs": [
    {
     "name": "stdout",
     "output_type": "stream",
     "text": [
      "Coefficient Interpretations:\n",
      "\n",
      "1) For one more Male 40 to 44 Years, we sell 0.77 more Bobo Bars all else equal.\n",
      "2) For one more Female 30 to 34 Years, we sell 1.98 more Bobo Bars all else equal.\n",
      "3) For one more Female 35 to 39 Years, we sell 2.06 more Bobo Bars all else equal.\n",
      "4) For one more Female 40 to 44 Years, we sell 1.88 more Bobo Bars all else equal.\n",
      "5) For one more Female 80 to 84 Years, we sell 0.14 more Bobo Bars all else equal.\n",
      "6) For one more Asian, we sell 1.1 more Bobo Bars all else equal.\n",
      "7) For one more Other Race, we sell 0.0 more Bobo Bars all else equal.\n",
      "8) For one more Unmarried women with Bachelor Degree, we sell 0.7 more Bobo Bars all else equal.\n",
      "9) For one more Unmarried women with Graduate/Professional Degree, we sell 1.5 more Bobo Bars all else equal.\n",
      "10) For one more Women 40 to 44 Years birth past year, we sell 1.09 more Bobo Bars all else equal.\n",
      "11) For one more Female 25+ with less than high school, we sell 4.19 more Bobo Bars all else equal.\n",
      "12) For one more Households making $200k+, we sell 1.86 more Bobo Bars all else equal.\n"
     ]
    }
   ],
   "source": [
    "# Fun little for loop that eases the interpretation of each coefficient.\n",
    "print('Coefficient Interpretations:\\n')\n",
    "a = 1\n",
    "for i in range(len(coeffs)):\n",
    "    if i%2 == 0:\n",
    "        num = round(coeffs[i+1], 2)\n",
    "        print(str(a) + ') For one more ' + coeffs[i] +', we sell ' + str(num) + \n",
    "              ' more Bobo Bars all else equal.')\n",
    "        a = a + 1"
   ]
  },
  {
   "cell_type": "markdown",
   "metadata": {},
   "source": [
    "### Model performance: \n",
    "#### The test MSE was much higher than the training MSE indicating possible overfitting and too many predictors. The R-squared of both the training and the test however were nearly identical, though very low. This model did not predict purchases very well in the end, though it was good to try."
   ]
  },
  {
   "cell_type": "code",
   "execution_count": 46,
   "metadata": {},
   "outputs": [
    {
     "name": "stdout",
     "output_type": "stream",
     "text": [
      "Training Data MSE\n",
      "20853.698377528126\n",
      "Test Data MSE\n",
      "35941.189558306716\n",
      "\n",
      "Training Data R-Square\n",
      "0.2804542067270799\n",
      "Test Data R-Square\n",
      "0.28710489317178245\n"
     ]
    }
   ],
   "source": [
    "# Training and test set mean squared errors \n",
    "train_error = mean_squared_error(tar_train, model.predict(pred_train))\n",
    "print('Training Data MSE')\n",
    "print(train_error)\n",
    "\n",
    "test_error = mean_squared_error(tar_test, model.predict(pred_test))\n",
    "print('Test Data MSE')\n",
    "print(str(test_error) + '\\n')\n",
    "# R-Squared\n",
    "rsquared_train = model.score(pred_train, tar_train)\n",
    "print('Training Data R-Square')\n",
    "print(rsquared_train)\n",
    "\n",
    "rsquared_test = model.score(pred_test, tar_test)\n",
    "print('Test Data R-Square')\n",
    "print(rsquared_test)"
   ]
  }
 ],
 "metadata": {
  "kernelspec": {
   "display_name": "Python 3",
   "language": "python",
   "name": "python3"
  },
  "language_info": {
   "codemirror_mode": {
    "name": "ipython",
    "version": 3
   },
   "file_extension": ".py",
   "mimetype": "text/x-python",
   "name": "python",
   "nbconvert_exporter": "python",
   "pygments_lexer": "ipython3",
   "version": "3.6.4"
  }
 },
 "nbformat": 4,
 "nbformat_minor": 2
}
