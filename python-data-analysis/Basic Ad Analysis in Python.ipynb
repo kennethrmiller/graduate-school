{
 "cells": [
  {
   "cell_type": "markdown",
   "metadata": {},
   "source": [
    "# Looking TravelPony Facebook Ad Data Using Statistics\n",
    "## Kenneth R. Miller\n",
    "#### This is a short exercise in basic ad analysis using data from the hotel travel website TravelPony. "
   ]
  },
  {
   "cell_type": "markdown",
   "metadata": {},
   "source": [
    "#### Reading in the data. "
   ]
  },
  {
   "cell_type": "code",
   "execution_count": 3,
   "metadata": {},
   "outputs": [],
   "source": [
    "import pandas as pd\n",
    "import arrow\n",
    "import numpy as np\n",
    "import statsmodels.api as stat\n",
    "\n",
    "# Data can be found in the github repository\n",
    "travelponydf = pd.read_csv(\"Travel Pony Facebook.csv\")\n",
    "# Looking at the column headers\n",
    "list(travelponydf)\n",
    "\n",
    "# Adding a column to the data frame\n",
    "travelponydf[\"Cost Per Impression\"] = travelponydf[\"Amount Spent (USD)\"]/travelponydf[\"Impressions\"]\n",
    "\n",
    "# Getting the day on which each ad was bid\n",
    "# Empty list to hold the days\n",
    "daylist = []\n",
    "# Iterating over the rows in travelponydf\n",
    "for row in range(len(travelponydf)):\n",
    "    # Using Arrow to get the weekday number (Starting on Monday)\n",
    "    date = travelponydf['Start Date'].iloc[row]\n",
    "    par_date = arrow.get(str(date), 'M/D/YY')\n",
    "    daylist.append(par_date.weekday())\n",
    "    \n",
    "travelponydf[\"Day of Week\"] = daylist"
   ]
  },
  {
   "cell_type": "markdown",
   "metadata": {},
   "source": [
    "#### Finding the cheapest bid day based on cost per impression."
   ]
  },
  {
   "cell_type": "code",
   "execution_count": 13,
   "metadata": {},
   "outputs": [
    {
     "name": "stdout",
     "output_type": "stream",
     "text": [
      "Monday: 0.00291\n",
      "Tuesday: 0.00304\n",
      "Wednesday: 0.00298\n",
      "Thursday: 0.0034\n",
      "Friday: 0.0041\n",
      "Saturday: 0.00263\n",
      "Sunday: 0.00369\n",
      "\n"
     ]
    }
   ],
   "source": [
    "# Creating a separate list for each day...this could be accomplished\n",
    "    # with a dictionary but this works fine\n",
    "mon = []\n",
    "tues = []\n",
    "wed = []\n",
    "thurs = []\n",
    "fri = []\n",
    "sat = []\n",
    "sun = []\n",
    "\n",
    "# Iterating over each row in travelpony and appending the cost per impression data to the correct day lists\n",
    "for row in range(len(travelponydf)):\n",
    "    if travelponydf[\"Day of Week\"].iloc[row] == 0:\n",
    "        mon.append(travelponydf[\"Cost Per Impression\"].iloc[row])\n",
    "    elif travelponydf[\"Day of Week\"].iloc[row] == 1:\n",
    "        tues.append(travelponydf[\"Cost Per Impression\"].iloc[row])\n",
    "    elif travelponydf[\"Day of Week\"].iloc[row] == 2:\n",
    "        wed.append(travelponydf[\"Cost Per Impression\"].iloc[row])\n",
    "    elif travelponydf[\"Day of Week\"].iloc[row] == 3:\n",
    "        thurs.append(travelponydf[\"Cost Per Impression\"].iloc[row])\n",
    "    elif travelponydf[\"Day of Week\"].iloc[row] == 4:\n",
    "        fri.append(travelponydf[\"Cost Per Impression\"].iloc[row])\n",
    "    elif travelponydf[\"Day of Week\"].iloc[row] == 5:\n",
    "        sat.append(travelponydf[\"Cost Per Impression\"].iloc[row])\n",
    "    elif travelponydf[\"Day of Week\"].iloc[row] == 6:\n",
    "        sun.append(travelponydf[\"Cost Per Impression\"].iloc[row])\n",
    "    else:\n",
    "        # All the days are elif saving the else for an error message if need be\n",
    "        print(\"error\")\n",
    "        break\n",
    "# Printing the average per day in a readable block of text  \n",
    "print(\"Monday: \" + str(round(np.mean(mon), 5)) + \"\\n\"\n",
    "      \"Tuesday: \" + str(round(np.mean(tues), 5)) + \"\\n\"\n",
    "      \"Wednesday: \" + str(round(np.mean(wed), 5)) + \"\\n\"\n",
    "      \"Thursday: \" + str(round(np.mean(thurs), 5)) + \"\\n\"\n",
    "      \"Friday: \" + str(round(np.mean(fri), 5)) + \"\\n\"\n",
    "      \"Saturday: \" + str(round(np.mean(sat), 5)) + \"\\n\"\n",
    "      \"Sunday: \" + str(round(np.mean(sun), 5)) + \"\\n\"\n",
    "      )\n",
    "# As we can see, Friday is the most expensive bid day and Saturday is the cheapest"
   ]
  },
  {
   "cell_type": "markdown",
   "metadata": {},
   "source": [
    "#### Computing the Correlation between amount spent and various advertising categories."
   ]
  },
  {
   "cell_type": "code",
   "execution_count": 11,
   "metadata": {},
   "outputs": [
    {
     "name": "stdout",
     "output_type": "stream",
     "text": [
      "Reach: 0.7031238065113846\n",
      "Frequency: 0.13020086992866337\n",
      "Unique Clicks: 0.8829931774784137\n",
      "Page Likes: 0.7576119292180449\n"
     ]
    }
   ],
   "source": [
    "list(travelponydf)\n",
    "# These are the categories that we want\n",
    "cats = ['Reach', 'Frequency', 'Unique Clicks', 'Page Likes']\n",
    "# Iterating over each category, find the correlation against amount spent\n",
    "for category in cats:\n",
    "    print(category + \": \" + str(\n",
    "            travelponydf['Amount Spent (USD)'].corr(travelponydf[category]))\n",
    "    )"
   ]
  },
  {
   "cell_type": "markdown",
   "metadata": {},
   "source": [
    "#### Creating a simple regression to predict unique clicks. I like statsmodels because it creates nice, readable results tables."
   ]
  },
  {
   "cell_type": "code",
   "execution_count": 12,
   "metadata": {},
   "outputs": [
    {
     "data": {
      "text/html": [
       "<table class=\"simpletable\">\n",
       "<caption>OLS Regression Results</caption>\n",
       "<tr>\n",
       "  <th>Dep. Variable:</th>      <td>Unique Clicks</td>  <th>  R-squared:         </th> <td>   0.557</td> \n",
       "</tr>\n",
       "<tr>\n",
       "  <th>Model:</th>                   <td>OLS</td>       <th>  Adj. R-squared:    </th> <td>   0.556</td> \n",
       "</tr>\n",
       "<tr>\n",
       "  <th>Method:</th>             <td>Least Squares</td>  <th>  F-statistic:       </th> <td>   2325.</td> \n",
       "</tr>\n",
       "<tr>\n",
       "  <th>Date:</th>             <td>Sat, 13 Oct 2018</td> <th>  Prob (F-statistic):</th>  <td>  0.00</td>  \n",
       "</tr>\n",
       "<tr>\n",
       "  <th>Time:</th>                 <td>17:17:26</td>     <th>  Log-Likelihood:    </th> <td> -15973.</td> \n",
       "</tr>\n",
       "<tr>\n",
       "  <th>No. Observations:</th>      <td>  3705</td>      <th>  AIC:               </th> <td>3.195e+04</td>\n",
       "</tr>\n",
       "<tr>\n",
       "  <th>Df Residuals:</th>          <td>  3703</td>      <th>  BIC:               </th> <td>3.196e+04</td>\n",
       "</tr>\n",
       "<tr>\n",
       "  <th>Df Model:</th>              <td>     2</td>      <th>                     </th>     <td> </td>    \n",
       "</tr>\n",
       "<tr>\n",
       "  <th>Covariance Type:</th>      <td>nonrobust</td>    <th>                     </th>     <td> </td>    \n",
       "</tr>\n",
       "</table>\n",
       "<table class=\"simpletable\">\n",
       "<tr>\n",
       "      <td></td>         <th>coef</th>     <th>std err</th>      <th>t</th>      <th>P>|t|</th>  <th>[0.025</th>    <th>0.975]</th>  \n",
       "</tr>\n",
       "<tr>\n",
       "  <th>Reach</th>     <td>    0.0019</td> <td> 3.12e-05</td> <td>   62.490</td> <td> 0.000</td> <td>    0.002</td> <td>    0.002</td>\n",
       "</tr>\n",
       "<tr>\n",
       "  <th>Frequency</th> <td>    3.6139</td> <td>    0.298</td> <td>   12.109</td> <td> 0.000</td> <td>    3.029</td> <td>    4.199</td>\n",
       "</tr>\n",
       "</table>\n",
       "<table class=\"simpletable\">\n",
       "<tr>\n",
       "  <th>Omnibus:</th>       <td>5107.616</td> <th>  Durbin-Watson:     </th>  <td>   0.803</td>  \n",
       "</tr>\n",
       "<tr>\n",
       "  <th>Prob(Omnibus):</th>  <td> 0.000</td>  <th>  Jarque-Bera (JB):  </th> <td>5128392.747</td>\n",
       "</tr>\n",
       "<tr>\n",
       "  <th>Skew:</th>           <td> 7.331</td>  <th>  Prob(JB):          </th>  <td>    0.00</td>  \n",
       "</tr>\n",
       "<tr>\n",
       "  <th>Kurtosis:</th>       <td>184.674</td> <th>  Cond. No.          </th>  <td>9.84e+03</td>  \n",
       "</tr>\n",
       "</table>"
      ],
      "text/plain": [
       "<class 'statsmodels.iolib.summary.Summary'>\n",
       "\"\"\"\n",
       "                            OLS Regression Results                            \n",
       "==============================================================================\n",
       "Dep. Variable:          Unique Clicks   R-squared:                       0.557\n",
       "Model:                            OLS   Adj. R-squared:                  0.556\n",
       "Method:                 Least Squares   F-statistic:                     2325.\n",
       "Date:                Sat, 13 Oct 2018   Prob (F-statistic):               0.00\n",
       "Time:                        17:17:26   Log-Likelihood:                -15973.\n",
       "No. Observations:                3705   AIC:                         3.195e+04\n",
       "Df Residuals:                    3703   BIC:                         3.196e+04\n",
       "Df Model:                           2                                         \n",
       "Covariance Type:            nonrobust                                         \n",
       "==============================================================================\n",
       "                 coef    std err          t      P>|t|      [0.025      0.975]\n",
       "------------------------------------------------------------------------------\n",
       "Reach          0.0019   3.12e-05     62.490      0.000       0.002       0.002\n",
       "Frequency      3.6139      0.298     12.109      0.000       3.029       4.199\n",
       "==============================================================================\n",
       "Omnibus:                     5107.616   Durbin-Watson:                   0.803\n",
       "Prob(Omnibus):                  0.000   Jarque-Bera (JB):          5128392.747\n",
       "Skew:                           7.331   Prob(JB):                         0.00\n",
       "Kurtosis:                     184.674   Cond. No.                     9.84e+03\n",
       "==============================================================================\n",
       "\n",
       "Warnings:\n",
       "[1] Standard Errors assume that the covariance matrix of the errors is correctly specified.\n",
       "[2] The condition number is large, 9.84e+03. This might indicate that there are\n",
       "strong multicollinearity or other numerical problems.\n",
       "\"\"\""
      ]
     },
     "execution_count": 12,
     "metadata": {},
     "output_type": "execute_result"
    }
   ],
   "source": [
    "# Independent Variables\n",
    "X = travelponydf[['Reach', 'Frequency']]\n",
    "# Dependent variable\n",
    "y = travelponydf['Unique Clicks']\n",
    "\n",
    "# Ordinary Least Squares Regression\n",
    "model = stat.OLS(y, X).fit()\n",
    "clickpredict = model.predict(X)\n",
    "# Display the output\n",
    "model.summary()"
   ]
  }
 ],
 "metadata": {
  "kernelspec": {
   "display_name": "Python 3",
   "language": "python",
   "name": "python3"
  },
  "language_info": {
   "codemirror_mode": {
    "name": "ipython",
    "version": 3
   },
   "file_extension": ".py",
   "mimetype": "text/x-python",
   "name": "python",
   "nbconvert_exporter": "python",
   "pygments_lexer": "ipython3",
   "version": "3.6.4"
  }
 },
 "nbformat": 4,
 "nbformat_minor": 2
}
