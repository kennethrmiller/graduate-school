{
 "cells": [
  {
   "cell_type": "markdown",
   "metadata": {},
   "source": [
    "# Using Census Reporter API to Geographically Target Demographics\n",
    "## Kenneth R. Miller\n",
    "#### We have a coffee company and are looking to expand to other geographic areas. From looking at a Mintel report on premium coffee, we've decided to target hispanic individuals 18-34 years of age, who have an income from 50k to 74.9k dollars. Using CBSA (geographic ID codes) and Census Reporter, we are able to see exactly how many individuals meet our demographic target per metropolitan statistical area."
   ]
  },
  {
   "cell_type": "code",
   "execution_count": 12,
   "metadata": {},
   "outputs": [],
   "source": [
    "import pandas as pd\n",
    "def warn(*args, **kwargs):\n",
    "    pass\n",
    "import warnings\n",
    "warnings.warn = warn\n",
    "import json\n",
    "import requests\n",
    "import time \n",
    "\n",
    "# Data can be found in github repository\n",
    "# This contains CBSA codes, name of the statistical area, and a 2017 population estimate for that area\n",
    "msadf = pd.read_csv(\"msas.csv\")\n",
    "\n",
    "# Indexing the data frame by the CBSA instead of typical index codes\n",
    "msadf = msadf.set_index(\"CBSA\", drop = False)"
   ]
  },
  {
   "cell_type": "markdown",
   "metadata": {},
   "source": [
    "#### Identifying the tables we want and using geographic areas to generate request URLs"
   ]
  },
  {
   "cell_type": "code",
   "execution_count": 13,
   "metadata": {},
   "outputs": [],
   "source": [
    "# The specific table IDs we want...age, racial identity and income\n",
    "tableids = ['B01001', 'B03002', 'B19001']\n",
    "# Request URLs require single strings, not lists\n",
    "tableidstring = ','.join(tableids)\n",
    "\n",
    "# This list will contain all the request URLs in the same order as the CBSAs\n",
    "urllst = []\n",
    "# Initializing a variable to contain the geographic IDs\n",
    "geoid = 0  \n",
    "# This list will contain all the CBSAs in the format that censusreporter needs\n",
    "geoidlst = []\n",
    "\n",
    "# Iterating over each index and row in the dataframe\n",
    "    # In this case, the index IS the CBSA value because we reindexed the data frame\n",
    "for index, row in msadf.iterrows():\n",
    "    # Geoid is just the is just the index with 31000US on the front\n",
    "    geoid = '31000US' + str(index) \n",
    "    # Creating a request url for each statistical area\n",
    "    requesturl = 'http://api.censusreporter.org/1.0/data/show/latest?table_ids=%s&geo_ids=%s' % (tableidstring, geoid)\n",
    "    urllst.append(requesturl) # Appending the urls to a list of urls\n",
    "    # Appending a geoid to a list of geoids\n",
    "    geoidlst.append(str(geoid))\n",
    "\n",
    "msadf['URL'] = urllst\n",
    "msadf['GEO_ID'] = geoidlst"
   ]
  },
  {
   "cell_type": "markdown",
   "metadata": {},
   "source": [
    "#### Getting counts from Census Reporter of each of our demographics by geographic location"
   ]
  },
  {
   "cell_type": "code",
   "execution_count": null,
   "metadata": {},
   "outputs": [],
   "source": [
    "# Creating 3 empty lists, each to contain counts of our selected variables\n",
    "age = []\n",
    "race = []\n",
    "income = []\n",
    "# There are lots of codes needed to get an age range from 18-34, so I made a list that I can iterate through\n",
    "age_get = ['B01001007', 'B01001008', 'B01001009', 'B01001010', 'B01001011', 'B01001012']\n",
    "\n",
    "# Iterating over each URL in our URL list\n",
    "for element in urllst:\n",
    "    # Use the current URL to get the json\n",
    "    loadedjson = requests.get(element)\n",
    "    loadedjson.json()\n",
    "    parsedjson = json.loads(loadedjson.text)\n",
    "    # This is the CBSA of the current URL, just taken off the end\n",
    "    locstr = element[-12:]\n",
    "    \n",
    "    # Creating three temporary data frames of the data we need using the location gleaned from the URL\n",
    "    agedf = pd.DataFrame.from_dict(parsedjson['data'][locstr]['B01001'])\n",
    "    racedf = pd.DataFrame.from_dict(parsedjson['data'][locstr]['B03002'])\n",
    "    incomedf = pd.DataFrame.from_dict(parsedjson['data'][locstr]['B19001'])\n",
    "    \n",
    "    # Iterating over that list of age codes and adding it to a sum\n",
    "    age_sum = 0\n",
    "    for amt in age_get:\n",
    "        age_sum = agedf['estimate'][amt] + age_sum\n",
    "    \n",
    "    # Appending the sum to the age list\n",
    "    age.append(age_sum)\n",
    "    # Appending the income data to the income list\n",
    "    income.append(incomedf['estimate']['B19001011'] + incomedf['estimate']['B19001012'])\n",
    "    # Appending the race data to the race list (hispanics only)\n",
    "    race.append(racedf['estimate']['B03002012'])\n",
    "    \n",
    "    # Slows down the for loop so the api requests don't bog down the website\n",
    "    # This waits the remainder of the second that the for loop takes each time.\n",
    "    time.sleep(-time.time()%1)"
   ]
  },
  {
   "cell_type": "markdown",
   "metadata": {},
   "source": [
    "#### Putting these counts into our data frame"
   ]
  },
  {
   "cell_type": "code",
   "execution_count": null,
   "metadata": {},
   "outputs": [],
   "source": [
    "# Adding the three lists as columns in our data frame\n",
    "# This works because the URL list is in the same order as the index of msadf \n",
    "    # and these lists are in that order as well\n",
    "msadf['Age Count'] = age\n",
    "msadf['Income Count'] = income\n",
    "msadf['Hispanic Count'] = race\n",
    "\n",
    "# Calculating Percentage of population\n",
    "msadf['Age Perc.'] = msadf['Age Count']/msadf['POPESTIMATE2017']\n",
    "\n",
    "msadf['Income Perc.'] = msadf['Income Count']/msadf['POPESTIMATE2017']\n",
    "\n",
    "msadf['Race Perc.'] = msadf['Hispanic Count']/msadf['POPESTIMATE2017']\n",
    "\n",
    "msadf['Average'] = (msadf['Race Perc.'] + msadf['Income Perc.'] + msadf['Age Perc.'])/3\n"
   ]
  },
  {
   "cell_type": "markdown",
   "metadata": {},
   "source": [
    "#### Answering questions with our retreived data"
   ]
  },
  {
   "cell_type": "code",
   "execution_count": null,
   "metadata": {},
   "outputs": [],
   "source": [
    "# Question 1: What city has highest number of individuals in our income range?\n",
    "msadf['NAME'][msadf['Income Count'] == max(msadf['Income Count'])]\n",
    "# NY\n",
    "\n",
    "# Question 2: What city has highest count of 18-34 year olds?   \n",
    "msadf['NAME'][msadf['Age Count'] == max(msadf['Age Count'])]\n",
    "# NY\n",
    "\n",
    "# Question 3: What city has highest count of hispanics?\n",
    "msadf['NAME'][msadf['Hispanic Count'] == max(msadf['Hispanic Count'])]\n",
    "# LA\n"
   ]
  }
 ],
 "metadata": {
  "kernelspec": {
   "display_name": "Python 3",
   "language": "python",
   "name": "python3"
  },
  "language_info": {
   "codemirror_mode": {
    "name": "ipython",
    "version": 3
   },
   "file_extension": ".py",
   "mimetype": "text/x-python",
   "name": "python",
   "nbconvert_exporter": "python",
   "pygments_lexer": "ipython3",
   "version": "3.6.4"
  }
 },
 "nbformat": 4,
 "nbformat_minor": 2
}
