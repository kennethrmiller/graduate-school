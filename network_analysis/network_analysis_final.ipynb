{
 "cells": [
  {
   "cell_type": "markdown",
   "metadata": {},
   "source": [
    "## Semantic and Mention Network Analysis on Twitter Data\n",
    "*Kenneth Miller*\n",
    "Using Twitter data and network analysis techniques I will create two networks of tweets about three car brands over the course of this notebook: Toyota, Honda, and Jeep. Each network will allow us to see different interactions between these car companies and those that mention them; the semantic network will allow us to see what words are used in conjunction with which brands and the mention network will allow us to see the social connections between groups that mention each brand.\n"
   ]
  },
  {
   "cell_type": "markdown",
   "metadata": {},
   "source": [
    "### Pulling data from Twitter"
   ]
  },
  {
   "cell_type": "code",
   "execution_count": 102,
   "metadata": {},
   "outputs": [],
   "source": [
    "import json\n",
    "import os \n",
    "import sys\n",
    "import time\n",
    "from zipfile import ZipFile\n",
    "from birdy.twitter import AppClient, UserClient, TwitterRateLimitError\n",
    "from ratelimiter import RateLimiter\n",
    "from IPython.display import Image"
   ]
  },
  {
   "cell_type": "code",
   "execution_count": 2,
   "metadata": {},
   "outputs": [],
   "source": [
    "CONSUMER_KEY = 'KEY'\n",
    "CONSUMER_SECRET = 'SECRET'\n",
    "\n",
    "\n",
    "OUTPUT_DIR = 'tweets'\n",
    "MAX_TWEETS = 10000 # max results for a search\n",
    "max_id = None\n",
    "_client = None"
   ]
  },
  {
   "cell_type": "code",
   "execution_count": 103,
   "metadata": {},
   "outputs": [],
   "source": [
    "def client(consumer_key=None, consumer_secret=None):\n",
    "    global _client\n",
    "    if consumer_key is None:\n",
    "        consumer_key = CONSUMER_KEY\n",
    "    if consumer_secret is None:\n",
    "        consumer_secret = CONSUMER_SECRET\n",
    "    if _client is None:\n",
    "        _client = AppClient(consumer_key, consumer_secret)\n",
    "        access_token = _client.get_access_token()\n",
    "        _client = AppClient(consumer_key, consumer_secret, access_token)\n",
    "    return _client\n",
    "\n",
    "\n",
    "def limited(until):\n",
    "    duration = int(round(until - time.time()))\n",
    "    print('Rate limited, sleeping for {:d} seconds'.format(duration))\n",
    "\n",
    "\n",
    "@RateLimiter(max_calls=440, period=60*15, callback=limited)\n",
    "def fetch_tweets(query, consumer_key=None, consumer_secret=None):\n",
    "    global max_id\n",
    "    print(f'Fetching: \"{query}\" TO MAX ID: {max_id}')\n",
    "    try:\n",
    "        tweets = client(consumer_key, consumer_secret).api.search.tweets.get(\n",
    "            q=query,\n",
    "            count=100,\n",
    "            max_id=max_id).data['statuses']\n",
    "    except TwitterRateLimitError:\n",
    "        sys.exit(\"You've reached your Twitter API rate limit. \"\\\n",
    "            \"Wait 15 minutes before trying again\")\n",
    "    try:\n",
    "        id_ = min([tweet['id'] for tweet in tweets])\n",
    "    except ValueError:\n",
    "        return None\n",
    "    if max_id is None or id_ <= max_id:\n",
    "        max_id = id_ - 1\n",
    "    return tweets\n",
    "\n",
    "\n",
    "def initialize_max_id(file_list):\n",
    "    global max_id\n",
    "    for fn in file_list:\n",
    "        n = int(fn.split('.')[0])\n",
    "        if max_id is None or n < max_id:\n",
    "            max_id = n - 1\n",
    "    if max_id is not None:\n",
    "        print('Found previously fetched tweets. Setting max_id to %d' % max_id)\n",
    "\n",
    "\n",
    "def halt(_id):\n",
    "    print('Reached historically fetched ID: %d' % _id)\n",
    "    print('In order to re-fetch older tweets, ' \\\n",
    "        'remove tweets from the output directory or output zip file.')\n",
    "    sys.exit('\\n!!IMPORTANT: Tweets older than 7 days will not be re-fetched')\n",
    "\n",
    "\n",
    "def search_twitter(query, consumer_key=None, consumer_secret=None,\n",
    "            newtweets=False, dozip=True, verbose=False):\n",
    "    output_dir = os.path.join(OUTPUT_DIR, '_'.join(query.split()))\n",
    "    if not os.path.exists(output_dir):\n",
    "        os.makedirs(output_dir)\n",
    "    if dozip:\n",
    "        fn = os.path.join(output_dir, '%s.zip' % '_'.join(query.split()))\n",
    "        outzip = ZipFile(fn, 'a')\n",
    "    if not newtweets:\n",
    "        if dozip:\n",
    "            file_list = [f for f in outzip.namelist() if f.endswith('.json')]\n",
    "        else:\n",
    "            file_list = [f for f in os.listdir(output_dir) if f.endswith('.json')]\n",
    "        initialize_max_id(file_list)\n",
    "    while True:\n",
    "        try:\n",
    "            tweets = fetch_tweets(\n",
    "                query,\n",
    "                consumer_key=consumer_key,\n",
    "                consumer_secret=consumer_secret)\n",
    "            if tweets is None:\n",
    "                print('Search Completed')\n",
    "                if dozip:\n",
    "                    outzip.close()\n",
    "                break\n",
    "            for tweet in tweets:\n",
    "                if verbose:\n",
    "                    print(tweet['id'])\n",
    "                fn = '%d.json' % tweet['id']\n",
    "                if dozip:\n",
    "                    if fn in (file_list):\n",
    "                        outzip.close()\n",
    "                        halt(tweet['id'])\n",
    "                    else:\n",
    "                        outzip.writestr(fn, json.dumps(tweet, indent=4))\n",
    "                        file_list.append(fn)\n",
    "                else:\n",
    "                    path = os.path.join(output_dir, fn)\n",
    "                    if fn in (file_list):\n",
    "                        halt(tweet['id'])\n",
    "                    else:\n",
    "                        with open(path, 'w') as outfile:\n",
    "                            json.dump(tweet, outfile, indent=4)\n",
    "                        file_list.append(fn)\n",
    "                if len(file_list) >= MAX_TWEETS:\n",
    "                    if fn in (file_list):\n",
    "                        outzip.close()\n",
    "                    sys.exit('Reached maximum tweet limit of: %d' % MAX_TWEETS)\n",
    "        except:\n",
    "            if dozip:\n",
    "                outzip.close()\n",
    "            raise"
   ]
  },
  {
   "cell_type": "code",
   "execution_count": 6,
   "metadata": {},
   "outputs": [],
   "source": [
    "search_twitter(\"honda\")\n",
    "search_twitter(\"toyota usa OR toyota\")\n",
    "search_twitter(\"jeep\")\n",
    "# Add :) for positive tweets, :( for negative tweets"
   ]
  },
  {
   "cell_type": "markdown",
   "metadata": {},
   "source": [
    "### Building a Mention Network\n",
    "\n",
    "#### Importing necessary packages and creating a temporary directory to store unzipped tweets in."
   ]
  },
  {
   "cell_type": "code",
   "execution_count": 104,
   "metadata": {},
   "outputs": [],
   "source": [
    "import glob\n",
    "import os\n",
    "import shutil\n",
    "import zipfile\n",
    "import json\n",
    "import csv\n",
    "import pandas as pd"
   ]
  },
  {
   "cell_type": "code",
   "execution_count": 105,
   "metadata": {},
   "outputs": [
    {
     "name": "stdout",
     "output_type": "stream",
     "text": [
      "Created temp directory.\n"
     ]
    }
   ],
   "source": [
    "tempdir = 'temp'\n",
    "if not os.path.exists(tempdir):\n",
    "    os.makedirs(tempdir)\n",
    "    print('Created temp directory.')\n",
    "else:\n",
    "    print('Directory already exists.')"
   ]
  },
  {
   "cell_type": "markdown",
   "metadata": {},
   "source": [
    "Here, I'll unzip each zip file full of tweets and add the unzipped files to the temporary directory. "
   ]
  },
  {
   "cell_type": "code",
   "execution_count": 106,
   "metadata": {},
   "outputs": [
    {
     "data": {
      "text/plain": [
       "['toyota_usa_OR_toyota.zip', 'jeep.zip', 'honda.zip']"
      ]
     },
     "execution_count": 106,
     "metadata": {},
     "output_type": "execute_result"
    }
   ],
   "source": [
    "tweetzipfiles = glob.glob('*.zip')\n",
    "tweetzipfiles"
   ]
  },
  {
   "cell_type": "code",
   "execution_count": 107,
   "metadata": {},
   "outputs": [
    {
     "name": "stdout",
     "output_type": "stream",
     "text": [
      "Unzipping toyota_usa_OR_toyota.zip to temp directory\n",
      "Unzipping jeep.zip to temp directory\n",
      "Unzipping honda.zip to temp directory\n"
     ]
    }
   ],
   "source": [
    "for tweetfile in tweetzipfiles:\n",
    "    with zipfile.ZipFile(tweetfile, 'r') as f:\n",
    "        print('Unzipping %s to %s directory' % (tweetfile, tempdir))\n",
    "        f.extractall(tempdir)"
   ]
  },
  {
   "cell_type": "markdown",
   "metadata": {},
   "source": [
    "#### Creating dictionary of tweet counts.\n",
    "With the files in the temporary directory, we will be able to create a dictionary of unique users, as well as the number of tweets they have in our dataset. For our purposes, we'll only keep users with more than two tweets. This gives us a set of 894 unique users - plenty for a mention network."
   ]
  },
  {
   "cell_type": "code",
   "execution_count": 108,
   "metadata": {},
   "outputs": [
    {
     "name": "stdout",
     "output_type": "stream",
     "text": [
      "29595  Tweets Unpacked\n"
     ]
    }
   ],
   "source": [
    "uniqueusers = {}\n",
    "ct = 0\n",
    "\n",
    "for file in os.listdir(tempdir):\n",
    "    file = os.path.join(tempdir, file)\n",
    "    #print(fn)\n",
    "    with open(file) as f:\n",
    "        ct += 1\n",
    "        #if ct % 1000 == 0:\n",
    "        #    print(ct, ' Tweets Unpacked')\n",
    "        tweetjson = json.load(f)\n",
    "        tweeter = tweetjson['user']['screen_name']\n",
    "        \n",
    "        if tweeter in uniqueusers:\n",
    "            uniqueusers[tweeter] += 1\n",
    "        if tweeter not in uniqueusers:\n",
    "            uniqueusers[tweeter] = 1\n",
    "print(ct, ' Tweets Unpacked')"
   ]
  },
  {
   "cell_type": "code",
   "execution_count": 109,
   "metadata": {},
   "outputs": [
    {
     "name": "stdout",
     "output_type": "stream",
     "text": [
      "Users with more than two tweets: 894\n"
     ]
    }
   ],
   "source": [
    "users_include = set()\n",
    "usercount = 0\n",
    "for user in uniqueusers:\n",
    "    if uniqueusers[user] > 2:\n",
    "        users_include.add(user)\n",
    "print('Users with more than two tweets: %s' % len(users_include))"
   ]
  },
  {
   "cell_type": "markdown",
   "metadata": {},
   "source": [
    "#### Creating an edgelist for Gephi visualization\n",
    "With our set of unique users with more than two tweets, I will now create an edgelist in the form of a csv that gives us a column of tweeter *Source* and a column of the user being mentioned *Target*. With this information, we will be able to construct a visualized mention network."
   ]
  },
  {
   "cell_type": "code",
   "execution_count": 110,
   "metadata": {},
   "outputs": [
    {
     "name": "stdout",
     "output_type": "stream",
     "text": [
      "Writing edge list\n",
      "1000  Tweets written to edgelist\n",
      "2000  Tweets written to edgelist\n",
      "3000  Tweets written to edgelist\n",
      "4000  Tweets written to edgelist\n",
      "5000  Tweets written to edgelist\n",
      "Done 5952 tweets written to edgelist.\n"
     ]
    }
   ],
   "source": [
    "edgelist = open('car.edgelist.mention.gephi.csv', 'w')\n",
    "csvwriter = csv.writer(edgelist)\n",
    "header= ['Source', 'Target']\n",
    "csvwriter.writerow(header)\n",
    "\n",
    "print('Writing edge list')\n",
    "ct = 0\n",
    "\n",
    "for file in os.listdir(tempdir):\n",
    "    file = os.path.join(tempdir, file)\n",
    "    with open(file) as f:\n",
    "        tweetjson = json.load(f)\n",
    "        tweeter = tweetjson['user']['screen_name']\n",
    "        if tweeter in users_include:\n",
    "            ct += 1\n",
    "            if ct % 1000 == 0:\n",
    "                print(ct, ' Tweets written to edgelist')\n",
    "            \n",
    "            mentioned = tweetjson['entities']['user_mentions']\n",
    "            if len(mentioned) > 0:\n",
    "                for user in mentioned:\n",
    "                    ment_screename = user['screen_name']\n",
    "                    row = [tweeter, ment_screename]\n",
    "                    csvwriter.writerow(row)\n",
    "edgelist.close()\n",
    "print('Done %s tweets written to edgelist.' % ct)"
   ]
  },
  {
   "cell_type": "markdown",
   "metadata": {},
   "source": [
    "#### Removing the temporary directory."
   ]
  },
  {
   "cell_type": "code",
   "execution_count": 111,
   "metadata": {},
   "outputs": [],
   "source": [
    "shutil.rmtree(tempdir)"
   ]
  },
  {
   "cell_type": "markdown",
   "metadata": {},
   "source": [
    "#### Full Mention Network\n",
    "As we can see below, the mention network is clustered into three distinct areas, one surrounding Jeep (orange) and two surrounding Honda (blue) and Toyota (green). Surprisingly, Honda has almost no mentions at all. As expected, Jeep is fairly distinct from Honda and Toyota. Toyota absolutely has the most mentions and the biggest network.\n",
    "\n",
    "                                                        Full Mention Network\n",
    "![Full Mention Network](mentionimg/FullMention.png)\n",
    "The Toyota Network is separated into two distinct clusters: one with mentions surrounding our search handle \"Toyota\" and one that came up naturally - \"Toyota Hybrid\". This is an interesting, but misleading insight - Twitter users are talking about \"Toyota_Hybrid\" quite often, however this is the handle of Toyota's Gazoo Racing Team, their official racing team. This makes much more sense when regarding Twitter users and culture; Twitter users are talking about more about motorsport, and not as much about Toyota's hybrid technologies. \"Toyota_GR\" and \"Toyota_PR\" are also two handles that are mentioned frequently and are found at the center of Toyota clusters. The first handle is another racing handle for Toyota Gazoo Racing and the second is the Japanese handle for Toyota as a whole. It is surprising to me personally that so much Twitter chatter about Toyota revolves around racing.\n",
    "\n",
    "As one can see, Honda has a single mention edge with a Twitter user that also mentions Toyota quite frequently. This seems to show that Honda is not as \"cool\" as Toyota and Jeep or perhaps Toyota steals the spotlight from Honda. I am surprised that Honda's racing teams are not present in this mention network.\n",
    "\n",
    "                                                        Toyota Network\n",
    "![Toyota Network](mentionimg/ToyotaMention.png)\n",
    "\n",
    "Below, we can see that the Jeep network is extremely distinct from Honda and Toyota, which suggests something that we already know about Jeep: it is different from Honda and Toyota because it is an American car company specializing in \"outdoorsy\" or \"rugged\" SUVs whereas the other two are Japanese car companies with a full car lineup, often known for reliability and economy. I would expect Jeep's mention network to be completely distinct as we see here. This is in contrast to Toyota where it would appear their second node is mostly about racing pedigree and maybe their technology, particularly hybrids. \n",
    "\n",
    "Jeep's network is centered around two major nodes: \"Jeep\" (our search term) and \"THEJeepMafia\", a Jeep Wrangler off-roading enthusiast group. This says a lot about Jeep and what the brand is known for: off-roading and particularly the Jeep Wrangler. Other common nodes for Jeep are \"JeepsGreen\", \"topJeepers\" and \"Jeep Federation\". All three of these handles are dedicated to Jeep Wrangler enthusiast and Jeep Federation is particularly interested in modifcations for off-road. This is a very common thread in the Jeep cluster and it makes sense too; the Jeep Wrangler is Jeep's \"hero\" car and it makes sense that it is the model that everyone is talking about.\n",
    "                                                        \n",
    "                                                        Jeep Network\n",
    "![Jeep Network](mentionimg/JeepMention.png)"
   ]
  },
  {
   "cell_type": "markdown",
   "metadata": {},
   "source": [
    "### Creating a Semantic Network\n",
    "\n",
    "#### Importing packages and creating functions to deal with text analysis.\n",
    "With these important text-analysis steps locked into functions, we will be able to repeat steps without taking up a lot of lines of code."
   ]
  },
  {
   "cell_type": "code",
   "execution_count": 112,
   "metadata": {},
   "outputs": [],
   "source": [
    "import nltk\n",
    "wn = nltk.WordNetLemmatizer()\n",
    "ps = nltk.PorterStemmer()\n",
    "\n",
    "import glob\n",
    "import os\n",
    "import re\n",
    "import shutil\n",
    "from nltk.corpus import stopwords\n",
    "from nltk.tokenize import word_tokenize\n",
    "#nltk.download('stopwords')\n",
    "#nltk.download('punkt')\n",
    "#nltk.download('wordnet')\n",
    "\n",
    "import csv\n",
    "from nltk.stem import WordNetLemmatizer\n",
    "wordnet_lemmatizer = WordNetLemmatizer()\n",
    "import string\n",
    "import itertools\n",
    "import zipfile\n",
    "import json\n",
    "punctuation = string.punctuation\n",
    "stopwordsset = set(stopwords.words(\"english\"))\n",
    "stopwordsset.add(\"'s\")\n",
    "\n",
    "#Removing urls\n",
    "def removeURL(text):\n",
    "    result = re.sub(r\"http\\S+\", \"\", text)\n",
    "    return result\n",
    "\n",
    "#Extracting contextual words from a sentence\n",
    "def tokenize(text):\n",
    "    #lower case\n",
    "    text = text.lower()\n",
    "    #split into individual words\n",
    "    words = word_tokenize(text)\n",
    "    return words\n",
    "\n",
    "def stem(tokenizedtext):\n",
    "    rootwords = []\n",
    "    for aword in tokenizedtext:\n",
    "        aword = ps.stem(aword)\n",
    "        rootwords.append(aword)\n",
    "    return rootwords\n",
    "\n",
    "def stopWords(tokenizedtext):\n",
    "    goodwords = []\n",
    "    for aword in tokenizedtext:\n",
    "        if aword not in stopwordsset:\n",
    "            goodwords.append(aword)\n",
    "    return goodwords\n",
    "\n",
    "def lemmatizer(tokenizedtext):\n",
    "    lemmawords = []\n",
    "    for aword in tokenizedtext:\n",
    "        aword = wn.lemmatize(aword)\n",
    "        lemmawords.append(aword)\n",
    "    return lemmawords\n",
    "\n",
    "def removePunctuation(tokenizedtext):\n",
    "    nopunctwords = []\n",
    "    for aword in tokenizedtext:\n",
    "        if aword not in punctuation:\n",
    "            nopunctwords.append(aword)\n",
    "    cleanedwords = []\n",
    "    for aword in nopunctwords:\n",
    "        aword = aword.translate(str.maketrans('', '', string.punctuation))\n",
    "        cleanedwords.append(aword)\n",
    "    return cleanedwords"
   ]
  },
  {
   "cell_type": "markdown",
   "metadata": {},
   "source": [
    "#### Creating temporary directory.\n",
    "Once again, I created a temporary directory to hold the unzipped tweets while I work on them to create an edgelist. In this case, I extracted the unique words from each tweet rather than the unique users, so that we can see the topics of each tweet to better understand our brands and what people think of them. To do this, the URLs have been removed from the tweets as well as the punctuation, and the stop words. From there the text was separated into separate words rather than long strings."
   ]
  },
  {
   "cell_type": "code",
   "execution_count": 113,
   "metadata": {},
   "outputs": [
    {
     "name": "stdout",
     "output_type": "stream",
     "text": [
      "Unzipping to tmp directory: toyota_usa_OR_toyota.zip\n",
      "Unzipping to tmp directory: jeep.zip\n",
      "Unzipping to tmp directory: honda.zip\n"
     ]
    }
   ],
   "source": [
    "tempdir = 'tmp'\n",
    "if not os.path.exists(tempdir):\n",
    "    os.makedirs(tempdir)\n",
    "    \n",
    "tweetzipfiles = glob.glob('*zip')\n",
    "\n",
    "for file in tweetzipfiles:\n",
    "    with zipfile.ZipFile(file, 'r') as f:\n",
    "        print('Unzipping to tmp directory: %s' % file)\n",
    "        f.extractall(tempdir)"
   ]
  },
  {
   "cell_type": "code",
   "execution_count": 114,
   "metadata": {},
   "outputs": [
    {
     "name": "stdout",
     "output_type": "stream",
     "text": [
      "Tweets loaded: 13339\n"
     ]
    }
   ],
   "source": [
    "uniquewords = {}\n",
    "ct = 0\n",
    "for fn in os.listdir(tempdir):\n",
    "    name = os.path.join(tempdir, fn)\n",
    "    with open(name) as f:\n",
    "        tweetjson = json.load(f)\n",
    "        \n",
    "        if tweetjson['lang'] == 'en':\n",
    "            ct += 1\n",
    "            text = tweetjson['text']\n",
    "            nourlstext = removeURL(text)\n",
    "            tokenizedtext = tokenize(nourlstext)\n",
    "            nostopwords = stopWords(tokenizedtext)\n",
    "            lemmatized = lemmatizer(nostopwords)\n",
    "            nopunct = removePunctuation(lemmatized)\n",
    "            \n",
    "            for word in nopunct:\n",
    "                if word in uniquewords:\n",
    "                    uniquewords[word] += 1\n",
    "                elif word not in uniquewords:\n",
    "                    uniquewords[word] = 1\n",
    "print('Tweets loaded: %s' % ct)"
   ]
  },
  {
   "cell_type": "markdown",
   "metadata": {},
   "source": [
    "#### Creating a set of unique words\n",
    "Here I created a set of unique words mentioned in the tweets that were mentioned more than 100 times. We want to capture the most common sentiments to gain more insight and to cut down on the amount of guff when it comes to visualizing the network. In this case there are 220 unique words that were mentioned more than 100 times. This large cut-off is necessary due to the huge amount of Tweets that we have in the data. If we were to allow any tweet into the data, the semantic network visualization would be unreadable due to the complexity and frequency of edges."
   ]
  },
  {
   "cell_type": "code",
   "execution_count": 115,
   "metadata": {},
   "outputs": [
    {
     "name": "stdout",
     "output_type": "stream",
     "text": [
      "220\n"
     ]
    }
   ],
   "source": [
    "wordstoinclude = set()\n",
    "wordcount = 0\n",
    "for word in uniquewords:\n",
    "    if uniquewords[word] > 100:\n",
    "        wordcount += 1\n",
    "        wordstoinclude.add(word)\n",
    "print(wordcount)"
   ]
  },
  {
   "cell_type": "markdown",
   "metadata": {},
   "source": [
    "#### Creating an edgelist for the semantic network visualization in Gephi.\n",
    "From here, like before we are able to take our set of unique words and compare it to our tweet information. If the words are present in the set, we will then write a row to each possible combination of those words that appear in the tweet. \n",
    "\n",
    "For example if the tweet is `I love Jeeps`, three rows in the edglist will be written:\n",
    "* I Jeeps\n",
    "* love Jeeps\n",
    "* I love\n",
    "\n",
    "This is similar to the mention network in that it is two connections, however it is with semantic infromation. The third column in the edglist will simply read `Undirected` to tell Gephi that this is not a directed network; one word is not speaking *to* the other word, they're just found in conjunction."
   ]
  },
  {
   "cell_type": "code",
   "execution_count": 116,
   "metadata": {},
   "outputs": [
    {
     "name": "stdout",
     "output_type": "stream",
     "text": [
      "Writing Edgelist\n",
      "Done. 13339 Tweets written to edglist.\n"
     ]
    }
   ],
   "source": [
    "edgelist = open('car_semantic_edglist_gephi2.csv', 'w')\n",
    "csvwriter = csv.writer(edgelist)\n",
    "\n",
    "header = ['Source', 'Target', 'Type']\n",
    "csvwriter.writerow(header)\n",
    "print('Writing Edgelist')\n",
    "\n",
    "\n",
    "uniquewords = {}\n",
    "ct = 0\n",
    "for fn in os.listdir(tempdir):\n",
    "    name = os.path.join(tempdir, fn)\n",
    "    with open(name) as f:\n",
    "        tweetjson = json.load(f)\n",
    "        \n",
    "        # Making sure the tweets are in English (important for semantics in English)\n",
    "        if tweetjson['lang'] == 'en':\n",
    "            ct += 1\n",
    "            text = tweetjson['text']\n",
    "            nourlstext = removeURL(text)\n",
    "            tokenizedtext = tokenize(nourlstext)\n",
    "            nostopwords = stopWords(tokenizedtext)\n",
    "            lemmatized = lemmatizer(nostopwords)\n",
    "            nopunct = removePunctuation(lemmatized)\n",
    "            \n",
    "            # Creating a list of goodwords using the previous set\n",
    "            goodwords = []\n",
    "            for word in nopunct:\n",
    "                if word in wordstoinclude:\n",
    "                    goodwords.append(word.replace(',', ''))\n",
    "            \n",
    "            # Creating a list of combination of words that could have gone together\n",
    "            # Writing the csv rows one at a time\n",
    "            combos = itertools.combinations(goodwords, 2) # list of words and the number of connections we want\n",
    "            for combo in combos:\n",
    "                row = []\n",
    "                for node in combo:\n",
    "                    row.append(node)\n",
    "                row.append('Undirected')\n",
    "                csvwriter.writerow(row)\n",
    "print('Done. %s Tweets written to edglist.' % ct)\n",
    "edgelist.close()"
   ]
  },
  {
   "cell_type": "markdown",
   "metadata": {},
   "source": [
    "#### Semantic Network\n",
    "Below, one can see the full semantic network. Interestingly, this network was focused around model names and most of the major clusters from the mention network were not present, with the exception of \"Toyota_Hybrid\" - the Toyota Racing team. I have colored the models to their respective brand colors: Jeep (orange), Toyota (green), and Honda (blue). Interestingly, there are many more brands present in this semantic network than our original three including: Rolls Royce, Mercedes, Volkswagen, Nissan, Ford, Range Rover, BMW, etc. It would appear that this semantic network is dominated by car talk overall, and not necessarily specific to our three brands. However there are some interesting branches as outlined below.\n",
    "\n",
    "Overall, this network did not provide much insight into Twitter user's views of our three brands and most of the models were very close together. It would appear that \"Uber\" is situated near Rav4 and Camry, indicating that perhaps these cars are popular choices for Uber drivers, perhaps highlighting their efficiency. Additionally, near the Wrangler and Accord nodes, it would appear that people are talking about buying these cars used as opposed to new. This might be an indication that these cars are too expensive new and perhaps could benefit from a price cut.\n",
    "\n",
    "With this in mind, I have indicated a couple of network arms that I found intriguing or informative below.\n",
    "\n",
    "                                                     Full Semantic Network\n",
    "![Full Semantic](semanticimg/FullSemantic.png)\n",
    "\n",
    "Below is an arm of the full semantic network that shows the \"Toyota Hybrid\" handle and various racing semantics such as \"lap\" and \"TS050\" which is a hybrid Le Mans race car. This semantic network arm confirms that Twitter users are indeed talking about the racing team and not talking about general Toyota hybrid technology. Additionally, there is a positive node in there: \"Astonish..\" which I assume to be *astonishing*.\n",
    "\n",
    "                                                     Toyota Racing Arm\n",
    "![Toyota Racing Network](semanticimg/ToyotaHybridRacing.png)\n",
    "\n",
    "Below, I've captured an interesting arm in the semantic network, which is incredibly self-connected yet seemingly not connected to any one model of car. Though it is closest to the Toyota Yaris model, upon further investigation this network is record of a Twitter thread from a popular Twitter user called Kendall Baylay, talking about their father and his Jeep Wrangler. The thread involves Kendall's dad losing weight and experiencing a \"midlife crisis\". It is interesting that this thread had enough tweets to be recognized as a complete arm in our semantic network and so I included it in finer detail.\n",
    "\n",
    "                                                      Kendall Baylay Arm\n",
    "![BaylayKendallSemantic](semanticimg/baylaykendallSemantic.png)\n",
    "\n",
    "\n",
    "From this arm, it appears that the NBA is giving away a car as a sweepstakes. I found this interesting, as it fully shows many of the words that one would use to describe a sweepstakes such as \"enter\", \"win\", and \"giveaway\". It appears that the Houston Rockets and the Golden State Warriors were invovled in this sweepstakes as well.\n",
    "\n",
    "                                                       NBA Sweepstakes Arm\n",
    "![NBA Sweepstakes](semanticimg/NBASemantic.png)"
   ]
  },
  {
   "cell_type": "markdown",
   "metadata": {},
   "source": [
    "### Creating Mention Network with High-Value Twitter Users\n",
    "Below, I will complete the same steps to create a mention network as before, however we will only include Twitter accounts that have a large number of followers in their network. These are the most influential Twitter users for brand so it will be interesting to see who they're talking to."
   ]
  },
  {
   "cell_type": "markdown",
   "metadata": {},
   "source": [
    "For this mention network, I've only included Twitter users that have more than 200 followers. Though this isn't a huge number of followers it does show people that are much more active on Twitter and have a sizeable following. Before, we used \"tmp\" as our temporary directory and we'll just use it again instead of deleting it."
   ]
  },
  {
   "cell_type": "code",
   "execution_count": 117,
   "metadata": {},
   "outputs": [
    {
     "data": {
      "text/plain": [
       "'tmp'"
      ]
     },
     "execution_count": 117,
     "metadata": {},
     "output_type": "execute_result"
    }
   ],
   "source": [
    "tempdir"
   ]
  },
  {
   "cell_type": "code",
   "execution_count": 118,
   "metadata": {},
   "outputs": [
    {
     "name": "stdout",
     "output_type": "stream",
     "text": [
      "18863  Tweets Unpacked\n",
      "Users with more than two tweets: 563\n"
     ]
    }
   ],
   "source": [
    "uniqueusers_value = {}\n",
    "ct = 0\n",
    "\n",
    "for file in os.listdir(tempdir):\n",
    "    file = os.path.join(tempdir, file)\n",
    "    with open(file) as f:\n",
    "\n",
    "        tweetjson = json.load(f)\n",
    "        if tweetjson['user']['followers_count'] > 200:\n",
    "            tweeter = tweetjson['user']['screen_name']\n",
    "            ct += 1\n",
    "            if tweeter in uniqueusers_value:\n",
    "                uniqueusers_value[tweeter] += 1\n",
    "            if tweeter not in uniqueusers_value:\n",
    "                uniqueusers_value[tweeter] = 1\n",
    "print(ct, ' Tweets Unpacked')\n",
    "\n",
    "users_include = set()\n",
    "usercount = 0\n",
    "for user in uniqueusers_value:\n",
    "    if uniqueusers_value[user] > 2:\n",
    "        users_include.add(user)\n",
    "print('Users with more than two tweets: %s' % len(users_include))"
   ]
  },
  {
   "cell_type": "code",
   "execution_count": 119,
   "metadata": {},
   "outputs": [
    {
     "name": "stdout",
     "output_type": "stream",
     "text": [
      "Writing edge list\n",
      "1000  Tweets written to edgelist\n",
      "2000  Tweets written to edgelist\n",
      "3000  Tweets written to edgelist\n",
      "Done 3718 tweets written to edgelist.\n"
     ]
    }
   ],
   "source": [
    "edgelist = open('car_edgelist_mention_value_gephi.csv', 'w')\n",
    "csvwriter = csv.writer(edgelist)\n",
    "header= ['Source', 'Target']\n",
    "csvwriter.writerow(header)\n",
    "\n",
    "print('Writing edge list')\n",
    "ct = 0\n",
    "\n",
    "for file in os.listdir(tempdir):\n",
    "    file = os.path.join(tempdir, file)\n",
    "    with open(file) as f:\n",
    "        tweetjson = json.load(f)\n",
    "        if tweetjson['user']['followers_count'] > 200:\n",
    "            tweeter = tweetjson['user']['screen_name']\n",
    "            if tweeter in users_include:\n",
    "                ct += 1\n",
    "                if ct % 1000 == 0:\n",
    "                    print(ct, ' Tweets written to edgelist')\n",
    "\n",
    "                mentioned = tweetjson['entities']['user_mentions']\n",
    "                if len(mentioned) > 0:\n",
    "                    for user in mentioned:\n",
    "                        ment_screename = user['screen_name']\n",
    "                        row = [tweeter, ment_screename]\n",
    "                        csvwriter.writerow(row)\n",
    "edgelist.close()\n",
    "print('Done %s tweets written to edgelist.' % ct)"
   ]
  },
  {
   "cell_type": "markdown",
   "metadata": {},
   "source": [
    "#### Mention Network\n",
    "Below, we can see that this high-value user mention network is much different looking from the last, though similar groups emerge. Once again, Jeep is fairly distinct from the Toyota group, however Honda is right there with it. Toyota dominates the mentions again with racing accounts in particular. Again, Honda has the least amount of mentions however with higher value Twitter users, Honda shows up much more. This might be an indication of paid endorsements from certain Twitter accounts or it could be simply that accounts with few followers do not mention Honda much. \n",
    "\n",
    "                                                        Full Value Mention Network\n",
    "!['Full Mention Network](valueimg/FullValueMention.png)\n",
    "\n",
    "The consistency of Toyota Racing within these semantic and mention clusters, especially when accounting for high-value Twitter users leads me to believe that Toyota should lean into it's association with racing as a marketing tactic. It clearly dominates this mention network over the other two brands and most of this domination stems from various racing handles like \"Toyota_Hybrid\".\n",
    "\n",
    "                                                        Toyota Value Arm\n",
    "!['Toyota Value Arm](valueimg/ToyotaValue.png)\n",
    "\n",
    "Similar to Toyota, Jeep's mention network is dominated by a specific activity and user account. This leads me to believe that perhaps Jeep should look towards \"THEJeepMafia\" as a endorsement candidate. Jeep should also advertise their off-roader association, though I believe they are already doing this.\n",
    "\n",
    "As for Honda, that brand needs to create a stronger social network presence if they want to increase their brand awareness on Twitter. Though they are *more* present in this mention network, Honda is clearly dominated by Toyota and Jeep.\n",
    "\n",
    "                                                         Jeep and Honda Value Arm\n",
    "![Jeep and Honda Value](valueimg/JeepandHondaValue.png)\n"
   ]
  },
  {
   "cell_type": "code",
   "execution_count": 120,
   "metadata": {},
   "outputs": [],
   "source": [
    "shutil.rmtree(tempdir)"
   ]
  },
  {
   "cell_type": "markdown",
   "metadata": {},
   "source": [
    "### Sentiment Analysis by Brand\n",
    "\n",
    "#### Importing necessary packages and defining a sentiment analysis function"
   ]
  },
  {
   "cell_type": "code",
   "execution_count": 121,
   "metadata": {},
   "outputs": [],
   "source": [
    "from __future__ import print_function\n",
    "from watson_developer_cloud import PersonalityInsightsV3\n",
    "from watson_developer_cloud import WatsonApiException\n",
    "import pandas as pd \n",
    "import time\n",
    "import matplotlib.pyplot as plt"
   ]
  },
  {
   "cell_type": "markdown",
   "metadata": {},
   "source": [
    "This function will take a block of tweets and find overall personality insights with IBM's Watson API. I've included my username and password simply so this final report runs - I would not include them otherwise."
   ]
  },
  {
   "cell_type": "code",
   "execution_count": 122,
   "metadata": {},
   "outputs": [],
   "source": [
    "def sentiment_analysis(text_list):\n",
    "    new_text = []\n",
    "    for lst in text_list:\n",
    "        new_text.append(''.join(lst))\n",
    "    new_text = ''.join(new_text)\n",
    "    \n",
    "    # Authentification info for IBM Watson\n",
    "    service = PersonalityInsightsV3(\n",
    "        version='2017-10-13',\n",
    "        ## url is optional, and defaults to the URL below. Use the correct URL for your region.\n",
    "        # url='https://gateway.watsonplatform.net/personality-insights/api',\n",
    "        username='USERNAME',\n",
    "        password='PASSWORD')\n",
    "\n",
    "    # Test: Asking the watson to analyze the inputted string.\n",
    "    response = service.profile(\n",
    "        new_text, # Must be 100 words in length\n",
    "        content_type='text/plain',\n",
    "        accept=\"text/csv\",\n",
    "        charset='utf-8',\n",
    "        csv_headers=True).get_result()\n",
    "\n",
    "    # Splitting the lines from the headers and the variables\n",
    "    profile = response.content\n",
    "    cr = profile.splitlines()\n",
    "    \n",
    "    # Appending values for the text to a list\n",
    "    vallst = []\n",
    "    val = ''\n",
    "    for i in cr[1]:\n",
    "        # The letter = the character value converted from ASCII decimal\n",
    "        val = val + chr(i)\n",
    "        # If the byte is 44 (a comma), append the full letter value to the labelslst\n",
    "        if i == 44:\n",
    "            try:\n",
    "                val = val[:-1]\n",
    "                val = float(val)\n",
    "                vallst.append(val)        \n",
    "            except ValueError:\n",
    "                vallst.append(1)\n",
    "            val = ''\n",
    "    # Appending the list to the dataframe, leaving room for the column headers\n",
    "    return vallst, cr"
   ]
  },
  {
   "cell_type": "markdown",
   "metadata": {},
   "source": [
    "#### Analyzing Jeep texts\n",
    "In the next three blocks I will analyze each brand separately, using a single block of text for each brand. This allows us to get an overall picture of the talk surrounding the brand. It also allows us to use IBM Watson API because tweets are too short for Watson's 100 word minimum."
   ]
  },
  {
   "cell_type": "code",
   "execution_count": 123,
   "metadata": {},
   "outputs": [
    {
     "name": "stdout",
     "output_type": "stream",
     "text": [
      "Unzipping to tmp directory: jeep.zip\n",
      "Adding text to list from jeeptmp\n"
     ]
    }
   ],
   "source": [
    "tempdir = 'jeeptmp'\n",
    "if not os.path.exists(tempdir):\n",
    "    os.makedirs(tempdir)\n",
    "    \n",
    "jeepfiles = glob.glob('jeep.zip')\n",
    "\n",
    "for file in jeepfiles:\n",
    "    with zipfile.ZipFile(file, 'r') as f:\n",
    "        print('Unzipping to tmp directory: %s' % file)\n",
    "        f.extractall(tempdir)\n",
    "jeeptext = []\n",
    "ct = 0\n",
    "for fn in os.listdir(tempdir):\n",
    "    name = os.path.join(tempdir, fn)\n",
    "    with open(name) as f:\n",
    "        tweetjson = json.load(f)\n",
    "        \n",
    "        # Making sure the tweets are in English (important for semantics in English)\n",
    "        if tweetjson['lang'] == 'en':\n",
    "            ct += 1\n",
    "            text = tweetjson['text']\n",
    "            nourlstext = removeURL(text)\n",
    "            nopunct = removePunctuation(nourlstext)\n",
    "            jeeptext.append(nopunct)\n",
    "print('Adding text to list from %s' % tempdir)"
   ]
  },
  {
   "cell_type": "code",
   "execution_count": 125,
   "metadata": {},
   "outputs": [
    {
     "name": "stderr",
     "output_type": "stream",
     "text": [
      "/usr/local/lib/python3.6/dist-packages/ipykernel_launcher.py:13: DeprecationWarning: watson-developer-cloud moved to ibm-watson. To get updates, use the new package.\n",
      "  del sys.path[0]\n"
     ]
    }
   ],
   "source": [
    "jeep_analysis = sentiment_analysis(jeeptext)\n",
    "cr = jeep_analysis[1]\n",
    "# Creating column headers\n",
    "labelslst = []\n",
    "# The data is in one long list of bytes. We need to convert this to strings\n",
    "letter = ''\n",
    "# Iterating over each set of bytes in the list\n",
    "# This little for loops creates a column of soon-to-be column headers \n",
    "    # from the bytes gathered by test call to Watson\n",
    "for i in cr[0]:\n",
    "    # The letter = the character value converted from ASCII decimal\n",
    "    letter = letter + chr(i)\n",
    "    # If the byte is 44 (a comma), append the full letter value to the labelslst\n",
    "    if i == 44:\n",
    "        letter = letter[:-1]\n",
    "        labelslst.append(letter)\n",
    "        letter = ''\n",
    "# Create a dataframe of the labels\n",
    "personalitydf = pd.DataFrame(labelslst)\n",
    "personalitydf['Jeep']  = jeep_analysis[0]"
   ]
  },
  {
   "cell_type": "markdown",
   "metadata": {},
   "source": [
    "#### Analyzing Honda Texts"
   ]
  },
  {
   "cell_type": "code",
   "execution_count": 126,
   "metadata": {},
   "outputs": [
    {
     "name": "stdout",
     "output_type": "stream",
     "text": [
      "Unzipping to tmp directory: honda.zip\n",
      "Adding text to list from hondatemp\n"
     ]
    },
    {
     "name": "stderr",
     "output_type": "stream",
     "text": [
      "/usr/local/lib/python3.6/dist-packages/ipykernel_launcher.py:13: DeprecationWarning: watson-developer-cloud moved to ibm-watson. To get updates, use the new package.\n",
      "  del sys.path[0]\n"
     ]
    },
    {
     "name": "stdout",
     "output_type": "stream",
     "text": [
      "Finished Analyzing\n"
     ]
    }
   ],
   "source": [
    "shutil.rmtree(tempdir)\n",
    "tempdir = 'hondatemp'\n",
    "if not os.path.exists(tempdir):\n",
    "    os.makedirs(tempdir)\n",
    "    \n",
    "hondafiles = glob.glob('honda.zip')\n",
    "\n",
    "for file in hondafiles:\n",
    "    with zipfile.ZipFile(file, 'r') as f:\n",
    "        print('Unzipping to tmp directory: %s' % file)\n",
    "        f.extractall(tempdir)\n",
    "hondatext = []\n",
    "ct = 0\n",
    "for fn in os.listdir(tempdir):\n",
    "    name = os.path.join(tempdir, fn)\n",
    "    with open(name) as f:\n",
    "        tweetjson = json.load(f)\n",
    "        \n",
    "        # Making sure the tweets are in English (important for semantics in English)\n",
    "        if tweetjson['lang'] == 'en':\n",
    "            ct += 1\n",
    "            text = tweetjson['text']\n",
    "            nourlstext = removeURL(text)\n",
    "            nopunct = removePunctuation(nourlstext)\n",
    "            hondatext.append(nopunct)\n",
    "print('Adding text to list from %s' % tempdir)\n",
    "\n",
    "personalitydf['Honda'] = sentiment_analysis(hondatext)[0]\n",
    "print('Finished Analyzing')\n"
   ]
  },
  {
   "cell_type": "markdown",
   "metadata": {},
   "source": [
    "#### Analyzing Toyota Texts"
   ]
  },
  {
   "cell_type": "code",
   "execution_count": 127,
   "metadata": {},
   "outputs": [
    {
     "name": "stdout",
     "output_type": "stream",
     "text": [
      "Unzipping to tmp directory: toyota_usa_OR_toyota.zip\n",
      "Adding text to list from toyotatemp\n"
     ]
    },
    {
     "name": "stderr",
     "output_type": "stream",
     "text": [
      "/usr/local/lib/python3.6/dist-packages/ipykernel_launcher.py:13: DeprecationWarning: watson-developer-cloud moved to ibm-watson. To get updates, use the new package.\n",
      "  del sys.path[0]\n"
     ]
    },
    {
     "name": "stdout",
     "output_type": "stream",
     "text": [
      "Finished Analyzing\n"
     ]
    }
   ],
   "source": [
    "shutil.rmtree(tempdir)\n",
    "tempdir = 'toyotatemp'\n",
    "if not os.path.exists(tempdir):\n",
    "    os.makedirs(tempdir)\n",
    "    \n",
    "toyotafiles = glob.glob('toyota_usa_OR_toyota.zip')\n",
    "\n",
    "for file in toyotafiles:\n",
    "    with zipfile.ZipFile(file, 'r') as f:\n",
    "        print('Unzipping to tmp directory: %s' % file)\n",
    "        f.extractall(tempdir)\n",
    "toyotatext = []\n",
    "ct = 0\n",
    "for fn in os.listdir(tempdir):\n",
    "    name = os.path.join(tempdir, fn)\n",
    "    with open(name) as f:\n",
    "        tweetjson = json.load(f)\n",
    "        \n",
    "        # Making sure the tweets are in English (important for semantics in English)\n",
    "        if tweetjson['lang'] == 'en':\n",
    "            ct += 1\n",
    "            text = tweetjson['text']\n",
    "            nourlstext = removeURL(text)\n",
    "            nopunct = removePunctuation(nourlstext)\n",
    "            toyotatext.append(nopunct)\n",
    "print('Adding text to list from %s' % tempdir)\n",
    "\n",
    "personalitydf['Toyota'] = sentiment_analysis(toyotatext)[0]\n",
    "print('Finished Analyzing')"
   ]
  },
  {
   "cell_type": "code",
   "execution_count": 128,
   "metadata": {},
   "outputs": [],
   "source": [
    "shutil.rmtree(tempdir)"
   ]
  },
  {
   "cell_type": "markdown",
   "metadata": {},
   "source": [
    "#### Looking at the results of personality insight analysis"
   ]
  },
  {
   "cell_type": "code",
   "execution_count": 129,
   "metadata": {},
   "outputs": [],
   "source": [
    "personalitydf = personalitydf[:52]\n",
    "\n",
    "# Transpose the data frame from 2600 column x 138 rows to 138 columns x 2600 rows\n",
    "personalitydfT = personalitydf.T \n",
    "# Add column names as the labels\n",
    "personalitydfT.columns = personalitydfT.iloc[0]\n",
    "# Will need to drop the 0th row once we have data inside the dataframe\n",
    "personalitydfT = personalitydfT.iloc[1:]"
   ]
  },
  {
   "cell_type": "markdown",
   "metadata": {},
   "source": [
    "#### Heatmap of Big 5 Personality Insights for Each Brand\n",
    "As we can see from the heatmap below, the brands differ on the kinds of conversations that Twitter users are having about each brand. It appears that once again, Toyota and Honda have similar personality insights and Jeep is separate from the two. However, each has different scores from each other and these are outlined below.\n",
    "Some noticable differences:\n",
    "* Jeep Relative Highs:\n",
    "    * Assertiveness\n",
    "    * Cheerfulness\n",
    "    * Excitement Seeking\n",
    "    * Need Excitment\n",
    "    * Anger\n",
    "* Toyota Relative Highs:\n",
    "    * Adventurousness\n",
    "    * Self Efficacy\n",
    "    * Self Discipline\n",
    "    * Trust\n",
    "    * Cautiousness\n",
    "    * Intellect\n",
    "* Honda Relative Highs\n",
    "    * Orderliness\n",
    "    * Neuroticism\n",
    "    * Need Liberty\n",
    "    * Need Ideal\n",
    "    * Need Curiosity\n",
    "    * Openness to Change\n",
    "\n",
    "It would be advantageous to take these differences into account to better market to what these consumers expect of each brand. It is also very intersting to see the drastic differences such as the high amount of excitement seeking in the Jeep brand relative to the other two brands or the focus on trust and order that are present in Honda and Toyota and not present in Jeep."
   ]
  },
  {
   "cell_type": "code",
   "execution_count": 130,
   "metadata": {},
   "outputs": [
    {
     "data": {
      "image/png": "[encoded data removed]",
      "text/plain": [
       "<Figure size 1080x1080 with 2 Axes>"
      ]
     },
     "metadata": {},
     "output_type": "display_data"
    }
   ],
   "source": [
    "import seaborn as sns; sns.set()\n",
    "\n",
    "plt.subplots(figsize=(15,15))\n",
    "personalitydfT = personalitydfT[personalitydfT.columns].astype(float)  # or int\n",
    "new_df = personalitydfT.transpose()\n",
    "plt.title('Big 5 Personality Insights of Tweets')\n",
    "ax = sns.heatmap(new_df, cmap=\"YlGnBu\", linewidths = .2)"
   ]
  },
  {
   "cell_type": "code",
   "execution_count": null,
   "metadata": {},
   "outputs": [],
   "source": []
  }
 ],
 "metadata": {
  "kernelspec": {
   "display_name": "Python 3",
   "language": "python",
   "name": "python3"
  },
  "language_info": {
   "codemirror_mode": {
    "name": "ipython",
    "version": 3
   },
   "file_extension": ".py",
   "mimetype": "text/x-python",
   "name": "python",
   "nbconvert_exporter": "python",
   "pygments_lexer": "ipython3",
   "version": "3.6.7"
  }
 },
 "nbformat": 4,
 "nbformat_minor": 2
}
