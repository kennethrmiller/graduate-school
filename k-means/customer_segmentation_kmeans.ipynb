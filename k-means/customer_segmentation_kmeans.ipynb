{
 "cells": [
  {
   "cell_type": "markdown",
   "metadata": {},
   "source": [
    "## Customer Segmentation Using K-Means\n",
    "*I've used Gower Similarity Coefficient over Euclidean Distance because of the presence of cateogorical variables (male, college, and white). At the bottom of this document, I've written some code to show the difference in error between the two methods.*\n",
    "\n",
    "#### Inspecting the Data\n",
    "First, we'll read in the data and look it over. This data set is customer data for a women's apparel company, explaining the significant lack of male customers. Our average household income is high and our average age is around 40 years old. Our customer base seems to be predominately white."
   ]
  },
  {
   "cell_type": "code",
   "execution_count": 77,
   "metadata": {},
   "outputs": [
    {
     "data": {
      "text/html": [
       "<table>\n",
       "<thead><tr><th></th><th scope=col>vars</th><th scope=col>n</th><th scope=col>mean</th><th scope=col>sd</th><th scope=col>median</th><th scope=col>trimmed</th><th scope=col>mad</th><th scope=col>min</th><th scope=col>max</th><th scope=col>range</th><th scope=col>skew</th><th scope=col>kurtosis</th><th scope=col>se</th></tr></thead>\n",
       "<tbody>\n",
       "\t<tr><th scope=row>iid</th><td>1           </td><td>1000        </td><td>5463.2890000</td><td>3046.4103478</td><td>5430.5000000</td><td>5486.4500000</td><td>3854.0187000</td><td>14.000      </td><td>10589.000   </td><td>10575.000   </td><td>-0.04608814 </td><td>-1.1665663  </td><td>96.335953867</td></tr>\n",
       "\t<tr><th scope=row>spend_online</th><td>2           </td><td>1000        </td><td>  72.4400350</td><td> 177.1944980</td><td>  14.9750000</td><td>  32.6663937</td><td>  22.2019350</td><td> 0.000      </td><td> 1985.750   </td><td> 1985.750   </td><td> 5.50323693 </td><td>40.0565981  </td><td> 5.603382026</td></tr>\n",
       "\t<tr><th scope=row>spend_retail</th><td>3           </td><td>1000        </td><td>  78.0046450</td><td> 182.4094687</td><td>  27.7150000</td><td>  39.6897063</td><td>  41.0902590</td><td> 0.000      </td><td> 2421.905   </td><td> 2421.905   </td><td> 6.12231882 </td><td>50.7513105  </td><td> 5.768293878</td></tr>\n",
       "\t<tr><th scope=row>age</th><td>4           </td><td>1000        </td><td>  40.9090000</td><td>  11.8072067</td><td>  41.0000000</td><td>  40.7162500</td><td>  11.8608000</td><td>18.000      </td><td>   88.000   </td><td>   70.000   </td><td> 0.22588619 </td><td> 0.1293582  </td><td> 0.373376659</td></tr>\n",
       "\t<tr><th scope=row>white</th><td>5           </td><td>1000        </td><td>   0.7993196</td><td>   0.1959046</td><td>   0.8550217</td><td>   0.8330985</td><td>   0.1461426</td><td> 0.000      </td><td>    1.000   </td><td>    1.000   </td><td>-1.67588845 </td><td> 2.9982202  </td><td> 0.006195047</td></tr>\n",
       "\t<tr><th scope=row>college</th><td>6           </td><td>1000        </td><td>   0.5436606</td><td>   0.2173147</td><td>   0.5579942</td><td>   0.5511063</td><td>   0.2481765</td><td> 0.000      </td><td>    1.000   </td><td>    1.000   </td><td>-0.26898468 </td><td>-0.8113512  </td><td> 0.006872096</td></tr>\n",
       "\t<tr><th scope=row>male</th><td>7           </td><td>1000        </td><td>   0.0910000</td><td>   0.2877530</td><td>   0.0000000</td><td>   0.0000000</td><td>   0.0000000</td><td> 0.000      </td><td>    1.000   </td><td>    1.000   </td><td> 2.83987287 </td><td> 6.0709518  </td><td> 0.009099550</td></tr>\n",
       "\t<tr><th scope=row>hh_inc</th><td>8           </td><td>1000        </td><td>  96.2538060</td><td>  50.1793260</td><td>  87.3635000</td><td>  91.2755288</td><td>  45.2949126</td><td> 2.499      </td><td>  250.001   </td><td>  247.502   </td><td> 0.95399868 </td><td> 0.8384209  </td><td> 1.586809616</td></tr>\n",
       "</tbody>\n",
       "</table>\n"
      ],
      "text/latex": [
       "\\begin{tabular}{r|lllllllllllll}\n",
       "  & vars & n & mean & sd & median & trimmed & mad & min & max & range & skew & kurtosis & se\\\\\n",
       "\\hline\n",
       "\tiid & 1            & 1000         & 5463.2890000 & 3046.4103478 & 5430.5000000 & 5486.4500000 & 3854.0187000 & 14.000       & 10589.000    & 10575.000    & -0.04608814  & -1.1665663   & 96.335953867\\\\\n",
       "\tspend\\_online & 2            & 1000         &   72.4400350 &  177.1944980 &   14.9750000 &   32.6663937 &   22.2019350 &  0.000       &  1985.750    &  1985.750    &  5.50323693  & 40.0565981   &  5.603382026\\\\\n",
       "\tspend\\_retail & 3            & 1000         &   78.0046450 &  182.4094687 &   27.7150000 &   39.6897063 &   41.0902590 &  0.000       &  2421.905    &  2421.905    &  6.12231882  & 50.7513105   &  5.768293878\\\\\n",
       "\tage & 4            & 1000         &   40.9090000 &   11.8072067 &   41.0000000 &   40.7162500 &   11.8608000 & 18.000       &    88.000    &    70.000    &  0.22588619  &  0.1293582   &  0.373376659\\\\\n",
       "\twhite & 5            & 1000         &    0.7993196 &    0.1959046 &    0.8550217 &    0.8330985 &    0.1461426 &  0.000       &     1.000    &     1.000    & -1.67588845  &  2.9982202   &  0.006195047\\\\\n",
       "\tcollege & 6            & 1000         &    0.5436606 &    0.2173147 &    0.5579942 &    0.5511063 &    0.2481765 &  0.000       &     1.000    &     1.000    & -0.26898468  & -0.8113512   &  0.006872096\\\\\n",
       "\tmale & 7            & 1000         &    0.0910000 &    0.2877530 &    0.0000000 &    0.0000000 &    0.0000000 &  0.000       &     1.000    &     1.000    &  2.83987287  &  6.0709518   &  0.009099550\\\\\n",
       "\thh\\_inc & 8            & 1000         &   96.2538060 &   50.1793260 &   87.3635000 &   91.2755288 &   45.2949126 &  2.499       &   250.001    &   247.502    &  0.95399868  &  0.8384209   &  1.586809616\\\\\n",
       "\\end{tabular}\n"
      ],
      "text/markdown": [
       "\n",
       "| <!--/--> | vars | n | mean | sd | median | trimmed | mad | min | max | range | skew | kurtosis | se | \n",
       "|---|---|---|---|---|---|---|---|\n",
       "| iid | 1            | 1000         | 5463.2890000 | 3046.4103478 | 5430.5000000 | 5486.4500000 | 3854.0187000 | 14.000       | 10589.000    | 10575.000    | -0.04608814  | -1.1665663   | 96.335953867 | \n",
       "| spend_online | 2            | 1000         |   72.4400350 |  177.1944980 |   14.9750000 |   32.6663937 |   22.2019350 |  0.000       |  1985.750    |  1985.750    |  5.50323693  | 40.0565981   |  5.603382026 | \n",
       "| spend_retail | 3            | 1000         |   78.0046450 |  182.4094687 |   27.7150000 |   39.6897063 |   41.0902590 |  0.000       |  2421.905    |  2421.905    |  6.12231882  | 50.7513105   |  5.768293878 | \n",
       "| age | 4            | 1000         |   40.9090000 |   11.8072067 |   41.0000000 |   40.7162500 |   11.8608000 | 18.000       |    88.000    |    70.000    |  0.22588619  |  0.1293582   |  0.373376659 | \n",
       "| white | 5            | 1000         |    0.7993196 |    0.1959046 |    0.8550217 |    0.8330985 |    0.1461426 |  0.000       |     1.000    |     1.000    | -1.67588845  |  2.9982202   |  0.006195047 | \n",
       "| college | 6            | 1000         |    0.5436606 |    0.2173147 |    0.5579942 |    0.5511063 |    0.2481765 |  0.000       |     1.000    |     1.000    | -0.26898468  | -0.8113512   |  0.006872096 | \n",
       "| male | 7            | 1000         |    0.0910000 |    0.2877530 |    0.0000000 |    0.0000000 |    0.0000000 |  0.000       |     1.000    |     1.000    |  2.83987287  |  6.0709518   |  0.009099550 | \n",
       "| hh_inc | 8            | 1000         |   96.2538060 |   50.1793260 |   87.3635000 |   91.2755288 |   45.2949126 |  2.499       |   250.001    |   247.502    |  0.95399868  |  0.8384209   |  1.586809616 | \n",
       "\n",
       "\n"
      ],
      "text/plain": [
       "             vars n    mean         sd           median       trimmed     \n",
       "iid          1    1000 5463.2890000 3046.4103478 5430.5000000 5486.4500000\n",
       "spend_online 2    1000   72.4400350  177.1944980   14.9750000   32.6663937\n",
       "spend_retail 3    1000   78.0046450  182.4094687   27.7150000   39.6897063\n",
       "age          4    1000   40.9090000   11.8072067   41.0000000   40.7162500\n",
       "white        5    1000    0.7993196    0.1959046    0.8550217    0.8330985\n",
       "college      6    1000    0.5436606    0.2173147    0.5579942    0.5511063\n",
       "male         7    1000    0.0910000    0.2877530    0.0000000    0.0000000\n",
       "hh_inc       8    1000   96.2538060   50.1793260   87.3635000   91.2755288\n",
       "             mad          min    max       range     skew        kurtosis  \n",
       "iid          3854.0187000 14.000 10589.000 10575.000 -0.04608814 -1.1665663\n",
       "spend_online   22.2019350  0.000  1985.750  1985.750  5.50323693 40.0565981\n",
       "spend_retail   41.0902590  0.000  2421.905  2421.905  6.12231882 50.7513105\n",
       "age            11.8608000 18.000    88.000    70.000  0.22588619  0.1293582\n",
       "white           0.1461426  0.000     1.000     1.000 -1.67588845  2.9982202\n",
       "college         0.2481765  0.000     1.000     1.000 -0.26898468 -0.8113512\n",
       "male            0.0000000  0.000     1.000     1.000  2.83987287  6.0709518\n",
       "hh_inc         45.2949126  2.499   250.001   247.502  0.95399868  0.8384209\n",
       "             se          \n",
       "iid          96.335953867\n",
       "spend_online  5.603382026\n",
       "spend_retail  5.768293878\n",
       "age           0.373376659\n",
       "white         0.006195047\n",
       "college       0.006872096\n",
       "male          0.009099550\n",
       "hh_inc        1.586809616"
      ]
     },
     "metadata": {},
     "output_type": "display_data"
    }
   ],
   "source": [
    "library(psych)\n",
    "library(cluster)\n",
    "DF_in = read.csv('apparel_cust_data.csv')\n",
    "describe(DF_in)"
   ]
  },
  {
   "cell_type": "markdown",
   "metadata": {},
   "source": [
    "#### Inspecting the Distribution of the Data\n",
    "Next, we'll look through the distributions of the variables to see if we can hightlight (and eventually fix) any skew. It looks like `online_spend` and `retail_spend` are incredibly right skewed. `white` looks to be fairly left skewed, however it is within such a small range that it should be acceptable for our purposes."
   ]
  },
  {
   "cell_type": "code",
   "execution_count": 76,
   "metadata": {},
   "outputs": [
    {
     "data": {
      "image/png": "[encoded data removed]",
      "text/plain": [
       "Plot with title \"Histogram of Household Income\""
      ]
     },
     "metadata": {},
     "output_type": "display_data"
    }
   ],
   "source": [
    "par(mfrow = c(3, 3), cex = 0.65)\n",
    "nbin = 50\n",
    "hist(DF_in$spend_online,nbin, xlab = 'Spend Online', main = 'Histogram of Online Spend', col = 'maroon')\n",
    "hist(DF_in$spend_retail,nbin, xlab = 'Spend Retail', main = 'Histogram of Retail Spend', col = 'maroon')\n",
    "hist(DF_in$age,nbin, xlab = 'Age', main = 'Histogram of Age', col = 'maroon')\n",
    "hist(DF_in$white,nbin, xlab = 'White', main = 'Histogram of White', col = 'maroon')\n",
    "hist(DF_in$college,nbin, xlab = 'College', main = 'Histogram of College', col = 'maroon')\n",
    "hist(DF_in$male, xlab = 'Male', main = 'Histogram of Male', col = 'maroon')\n",
    "hist(DF_in$hh_inc,nbin, xlab = 'Household Income', main = 'Histogram of Household Income', col = 'maroon')"
   ]
  },
  {
   "cell_type": "markdown",
   "metadata": {},
   "source": [
    "#### Fixing Skew\n",
    "Let's fix the skew on the `spend` variables by using a logarithmic transformation. This fixes the skew as we see the before and after histograms."
   ]
  },
  {
   "cell_type": "code",
   "execution_count": 59,
   "metadata": {},
   "outputs": [
    {
     "data": {
      "image/png": "[encoded data removed]",
      "text/plain": [
       "Plot with title \"Histogram of Log Spend Retail (After)\""
      ]
     },
     "metadata": {},
     "output_type": "display_data"
    }
   ],
   "source": [
    "par(mfrow = c(2,2), cex = 0.65)\n",
    "# log-transform skewed spend variables\n",
    "DF_in$log_spend_online = log(1+DF_in$spend_online)\n",
    "DF_in$log_spend_retail = log(1+DF_in$spend_retail)\n",
    "\n",
    "# histograms\n",
    "hist(DF_in$spend_online,nbin, xlab = 'Spend Online', main = 'Histogram of Spend Online (Before)', col = 'maroon')\n",
    "hist(DF_in$spend_retail,nbin, xlab = 'Spend Retail', main = 'Histogram of Spend Retail (Before)', col = 'darkblue')\n",
    "hist(DF_in$log_spend_online,nbin, xlab = 'Log Spend Online', main = 'Histogram of Log Spend Online (After)', col = 'maroon')\n",
    "hist(DF_in$log_spend_retail,nbin, xlab = 'Log Spend Retail', main = 'Histogram of Log Spend Retail (After)', col = 'darkblue')"
   ]
  },
  {
   "cell_type": "markdown",
   "metadata": {},
   "source": [
    "#### Finding the correct number of Clusters\n",
    "We'll utilize an Elbow Chart to see what number of clusters is appropriate for our analyses. Based on the chart, arguments could be made for K = 3, K = 4, or K = 5"
   ]
  },
  {
   "cell_type": "code",
   "execution_count": 74,
   "metadata": {},
   "outputs": [
    {
     "data": {
      "image/png": "[encoded data removed]",
      "text/plain": [
       "Plot with title \"Within-Cluster Variation by K\""
      ]
     },
     "metadata": {},
     "output_type": "display_data"
    }
   ],
   "source": [
    "# Create dataframe with transformed variables, omit non-cluster variables\n",
    "DF = DF_in\n",
    "DF$iid = NULL\n",
    "DF$spend_online = NULL\n",
    "DF$spend_retail = NULL\n",
    "\n",
    "# Creating a matrix of gower distances\n",
    "distMat_gower <- daisy(DF, metric = 'gower', warnType = FALSE)\n",
    "\n",
    "# Iterate to find a correct number of clusters\n",
    "lst <- rep(1:10)\n",
    "sslst <- list()\n",
    "for( i in lst ) {\n",
    "  clu_gower <- kmeans(distMat_gower, centers = i, nstart = 10)\n",
    "  ss <- sum(clu_gower$withinss)\n",
    "  sslst[i] <- ss\n",
    "}\n",
    "par(pin = c(3,3))\n",
    "plot(lst, sslst, xlab = 'Number of Clusters (K)', ylab = 'Within Cluster Variation'\n",
    "     , main = 'Within-Cluster Variation by K', col = 'maroon', pch = 19)"
   ]
  },
  {
   "cell_type": "markdown",
   "metadata": {},
   "source": [
    "#### Creating models with different numbers of centroids"
   ]
  },
  {
   "cell_type": "code",
   "execution_count": 64,
   "metadata": {},
   "outputs": [],
   "source": [
    "# 3 Clusters\n",
    "clu_gower_3 <- kmeans(distMat_gower, centers = 3, nstart = 10)\n",
    "DF_in$clu_gower_3 <- clu_gower_3$cluster\n",
    "\n",
    "# 4 Clusters\n",
    "clu_gower_4 <- kmeans(distMat_gower, centers = 4, nstart = 10)\n",
    "DF_in$clu_gower_4 <- clu_gower_4$cluster\n",
    "\n",
    "# 5 Clusters\n",
    "clu_gower_5 <- kmeans(distMat_gower, centers = 5, nstart = 10)\n",
    "DF_in$clu_gower_5 <- clu_gower_5$cluster"
   ]
  },
  {
   "cell_type": "markdown",
   "metadata": {},
   "source": [
    "#### Inspecting the models"
   ]
  },
  {
   "cell_type": "code",
   "execution_count": 66,
   "metadata": {},
   "outputs": [
    {
     "name": "stdout",
     "output_type": "stream",
     "text": [
      "[1] \"3-Cluster Model\"\n"
     ]
    },
    {
     "data": {
      "text/plain": [
       "\n",
       "    1     2     3 \n",
       "0.423 0.107 0.470 "
      ]
     },
     "metadata": {},
     "output_type": "display_data"
    },
    {
     "data": {
      "text/html": [
       "<table>\n",
       "<thead><tr><th scope=col>clu_gower_3</th><th scope=col>spend_online</th><th scope=col>spend_retail</th><th scope=col>age</th><th scope=col>white</th><th scope=col>college</th><th scope=col>male</th><th scope=col>hh_inc</th></tr></thead>\n",
       "<tbody>\n",
       "\t<tr><td>1      </td><td>144.403</td><td>59.455 </td><td>40.189 </td><td>0.804  </td><td>0.501  </td><td>0.00   </td><td> 86.059</td></tr>\n",
       "\t<tr><td>2      </td><td> 89.758</td><td>83.117 </td><td>40.505 </td><td>0.694  </td><td>0.498  </td><td>0.85   </td><td> 97.577</td></tr>\n",
       "\t<tr><td>3      </td><td>  3.731</td><td>93.536 </td><td>41.649 </td><td>0.819  </td><td>0.592  </td><td>0.00   </td><td>105.128</td></tr>\n",
       "</tbody>\n",
       "</table>\n"
      ],
      "text/latex": [
       "\\begin{tabular}{r|llllllll}\n",
       " clu\\_gower\\_3 & spend\\_online & spend\\_retail & age & white & college & male & hh\\_inc\\\\\n",
       "\\hline\n",
       "\t 1       & 144.403 & 59.455  & 40.189  & 0.804   & 0.501   & 0.00    &  86.059\\\\\n",
       "\t 2       &  89.758 & 83.117  & 40.505  & 0.694   & 0.498   & 0.85    &  97.577\\\\\n",
       "\t 3       &   3.731 & 93.536  & 41.649  & 0.819   & 0.592   & 0.00    & 105.128\\\\\n",
       "\\end{tabular}\n"
      ],
      "text/markdown": [
       "\n",
       "clu_gower_3 | spend_online | spend_retail | age | white | college | male | hh_inc | \n",
       "|---|---|---|\n",
       "| 1       | 144.403 | 59.455  | 40.189  | 0.804   | 0.501   | 0.00    |  86.059 | \n",
       "| 2       |  89.758 | 83.117  | 40.505  | 0.694   | 0.498   | 0.85    |  97.577 | \n",
       "| 3       |   3.731 | 93.536  | 41.649  | 0.819   | 0.592   | 0.00    | 105.128 | \n",
       "\n",
       "\n"
      ],
      "text/plain": [
       "  clu_gower_3 spend_online spend_retail age    white college male hh_inc \n",
       "1 1           144.403      59.455       40.189 0.804 0.501   0.00  86.059\n",
       "2 2            89.758      83.117       40.505 0.694 0.498   0.85  97.577\n",
       "3 3             3.731      93.536       41.649 0.819 0.592   0.00 105.128"
      ]
     },
     "metadata": {},
     "output_type": "display_data"
    },
    {
     "name": "stdout",
     "output_type": "stream",
     "text": [
      "[1] \"4-Cluster Model\"\n"
     ]
    },
    {
     "data": {
      "text/plain": [
       "\n",
       "    1     2     3     4 \n",
       "0.428 0.167 0.303 0.102 "
      ]
     },
     "metadata": {},
     "output_type": "display_data"
    },
    {
     "data": {
      "text/html": [
       "<table>\n",
       "<thead><tr><th scope=col>clu_gower_4</th><th scope=col>spend_online</th><th scope=col>spend_retail</th><th scope=col>age</th><th scope=col>white</th><th scope=col>college</th><th scope=col>male</th><th scope=col>hh_inc</th></tr></thead>\n",
       "<tbody>\n",
       "\t<tr><td>1      </td><td>  0.023</td><td> 88.895</td><td>41.561 </td><td>0.816  </td><td>0.582  </td><td>0.000  </td><td>102.475</td></tr>\n",
       "\t<tr><td>2      </td><td>188.384</td><td>195.402</td><td>40.257 </td><td>0.820  </td><td>0.578  </td><td>0.000  </td><td> 99.215</td></tr>\n",
       "\t<tr><td>3      </td><td>110.368</td><td>  0.033</td><td>40.370 </td><td>0.795  </td><td>0.484  </td><td>0.000  </td><td> 85.082</td></tr>\n",
       "\t<tr><td>4      </td><td> 73.808</td><td> 71.721</td><td>40.843 </td><td>0.710  </td><td>0.505  </td><td>0.892  </td><td> 98.485</td></tr>\n",
       "</tbody>\n",
       "</table>\n"
      ],
      "text/latex": [
       "\\begin{tabular}{r|llllllll}\n",
       " clu\\_gower\\_4 & spend\\_online & spend\\_retail & age & white & college & male & hh\\_inc\\\\\n",
       "\\hline\n",
       "\t 1       &   0.023 &  88.895 & 41.561  & 0.816   & 0.582   & 0.000   & 102.475\\\\\n",
       "\t 2       & 188.384 & 195.402 & 40.257  & 0.820   & 0.578   & 0.000   &  99.215\\\\\n",
       "\t 3       & 110.368 &   0.033 & 40.370  & 0.795   & 0.484   & 0.000   &  85.082\\\\\n",
       "\t 4       &  73.808 &  71.721 & 40.843  & 0.710   & 0.505   & 0.892   &  98.485\\\\\n",
       "\\end{tabular}\n"
      ],
      "text/markdown": [
       "\n",
       "clu_gower_4 | spend_online | spend_retail | age | white | college | male | hh_inc | \n",
       "|---|---|---|---|\n",
       "| 1       |   0.023 |  88.895 | 41.561  | 0.816   | 0.582   | 0.000   | 102.475 | \n",
       "| 2       | 188.384 | 195.402 | 40.257  | 0.820   | 0.578   | 0.000   |  99.215 | \n",
       "| 3       | 110.368 |   0.033 | 40.370  | 0.795   | 0.484   | 0.000   |  85.082 | \n",
       "| 4       |  73.808 |  71.721 | 40.843  | 0.710   | 0.505   | 0.892   |  98.485 | \n",
       "\n",
       "\n"
      ],
      "text/plain": [
       "  clu_gower_4 spend_online spend_retail age    white college male  hh_inc \n",
       "1 1             0.023       88.895      41.561 0.816 0.582   0.000 102.475\n",
       "2 2           188.384      195.402      40.257 0.820 0.578   0.000  99.215\n",
       "3 3           110.368        0.033      40.370 0.795 0.484   0.000  85.082\n",
       "4 4            73.808       71.721      40.843 0.710 0.505   0.892  98.485"
      ]
     },
     "metadata": {},
     "output_type": "display_data"
    },
    {
     "name": "stdout",
     "output_type": "stream",
     "text": [
      "[1] \"5-Cluster Model\"\n"
     ]
    },
    {
     "data": {
      "text/plain": [
       "\n",
       "    1     2     3     4     5 \n",
       "0.100 0.303 0.216 0.216 0.165 "
      ]
     },
     "metadata": {},
     "output_type": "display_data"
    },
    {
     "data": {
      "text/html": [
       "<table>\n",
       "<thead><tr><th scope=col>clu_gower_5</th><th scope=col>spend_online</th><th scope=col>spend_retail</th><th scope=col>age</th><th scope=col>white</th><th scope=col>college</th><th scope=col>male</th><th scope=col>hh_inc</th></tr></thead>\n",
       "<tbody>\n",
       "\t<tr><td>1      </td><td> 75.284</td><td> 73.031</td><td>41.120 </td><td>0.722  </td><td>0.509  </td><td>0.91   </td><td> 99.229</td></tr>\n",
       "\t<tr><td>2      </td><td>110.368</td><td>  0.033</td><td>40.370 </td><td>0.795  </td><td>0.484  </td><td>0.00   </td><td> 85.082</td></tr>\n",
       "\t<tr><td>3      </td><td>  0.023</td><td> 67.223</td><td>39.509 </td><td>0.763  </td><td>0.425  </td><td>0.00   </td><td> 66.285</td></tr>\n",
       "\t<tr><td>4      </td><td>  0.092</td><td>109.311</td><td>43.560 </td><td>0.863  </td><td>0.737  </td><td>0.00   </td><td>138.454</td></tr>\n",
       "\t<tr><td>5      </td><td>190.577</td><td>197.335</td><td>40.133 </td><td>0.819  </td><td>0.578  </td><td>0.00   </td><td> 98.953</td></tr>\n",
       "</tbody>\n",
       "</table>\n"
      ],
      "text/latex": [
       "\\begin{tabular}{r|llllllll}\n",
       " clu\\_gower\\_5 & spend\\_online & spend\\_retail & age & white & college & male & hh\\_inc\\\\\n",
       "\\hline\n",
       "\t 1       &  75.284 &  73.031 & 41.120  & 0.722   & 0.509   & 0.91    &  99.229\\\\\n",
       "\t 2       & 110.368 &   0.033 & 40.370  & 0.795   & 0.484   & 0.00    &  85.082\\\\\n",
       "\t 3       &   0.023 &  67.223 & 39.509  & 0.763   & 0.425   & 0.00    &  66.285\\\\\n",
       "\t 4       &   0.092 & 109.311 & 43.560  & 0.863   & 0.737   & 0.00    & 138.454\\\\\n",
       "\t 5       & 190.577 & 197.335 & 40.133  & 0.819   & 0.578   & 0.00    &  98.953\\\\\n",
       "\\end{tabular}\n"
      ],
      "text/markdown": [
       "\n",
       "clu_gower_5 | spend_online | spend_retail | age | white | college | male | hh_inc | \n",
       "|---|---|---|---|---|\n",
       "| 1       |  75.284 |  73.031 | 41.120  | 0.722   | 0.509   | 0.91    |  99.229 | \n",
       "| 2       | 110.368 |   0.033 | 40.370  | 0.795   | 0.484   | 0.00    |  85.082 | \n",
       "| 3       |   0.023 |  67.223 | 39.509  | 0.763   | 0.425   | 0.00    |  66.285 | \n",
       "| 4       |   0.092 | 109.311 | 43.560  | 0.863   | 0.737   | 0.00    | 138.454 | \n",
       "| 5       | 190.577 | 197.335 | 40.133  | 0.819   | 0.578   | 0.00    |  98.953 | \n",
       "\n",
       "\n"
      ],
      "text/plain": [
       "  clu_gower_5 spend_online spend_retail age    white college male hh_inc \n",
       "1 1            75.284       73.031      41.120 0.722 0.509   0.91  99.229\n",
       "2 2           110.368        0.033      40.370 0.795 0.484   0.00  85.082\n",
       "3 3             0.023       67.223      39.509 0.763 0.425   0.00  66.285\n",
       "4 4             0.092      109.311      43.560 0.863 0.737   0.00 138.454\n",
       "5 5           190.577      197.335      40.133 0.819 0.578   0.00  98.953"
      ]
     },
     "metadata": {},
     "output_type": "display_data"
    }
   ],
   "source": [
    "# Find the percentages in each cluster\n",
    "print('3-Cluster Model')\n",
    "table(DF_in$clu_gower_3)/dim(DF_in)[1]\n",
    "# Find the centroids in each cluster\n",
    "round(aggregate(cbind(spend_online, spend_retail, age, white, college, male, hh_inc) ~ clu_gower_3, data = DF_in, FUN = mean), 3)\n",
    "\n",
    "# Find the percentages in each cluster\n",
    "print('4-Cluster Model')\n",
    "table(DF_in$clu_gower_4)/dim(DF_in)[1]\n",
    "# Find the centroids in each cluster\n",
    "round(aggregate(cbind(spend_online, spend_retail, age, white, college, male, hh_inc) ~ clu_gower_4, data = DF_in, FUN = mean), 3)\n",
    "\n",
    "# Find the percentages in each cluster\n",
    "print('5-Cluster Model')\n",
    "table(DF_in$clu_gower_5)/dim(DF_in)[1]\n",
    "# Find the centroids in each cluster\n",
    "round(aggregate(cbind(spend_online, spend_retail, age, white, college, male, hh_inc) ~ clu_gower_5, data = DF_in, FUN = mean), 3)"
   ]
  },
  {
   "cell_type": "markdown",
   "metadata": {},
   "source": [
    "Above, we can see the makeup of each cluster.\n",
    "\n",
    "#### 3-Cluster Model\n",
    "Segments 1 and 3 contain a large portion of the customers (42.3% and 47.0% respectively), whereas segment 2 contains a much smaller proportion of the customer base (10.7%). However, this is fine as we see that segment 2 contains the male population of customers, which is very small anyways. I would categorize the segments as the following: \n",
    "\n",
    "* Segment 1 (42.3%): (Female, Mixed-Spending) \n",
    "* Segment 2 (10.7%): (Male, Mixed-Spending)   \n",
    "* Segment 3 (47.0%): (Female, Retail-Only)    \n",
    "\n",
    "#### 4-Cluster Model\n",
    "By adding a fourth cluster, it would appear that we split the (Female, Mixed-Spending) cluster into two, highlighting female customers that predominately shop online. From a business and marketing perspective, this is far more useful than a 3-cluster model.\n",
    "\n",
    "* Segment 1 (42.8%): (Female, Retail-Only)    \n",
    "* Segment 2 (16.7%): (Female, Mixed-Spending) \n",
    "* Segment 3 (30.3%): (Female, Online-Only)    \n",
    "* Segment 4 (10.2%): (Male, Mixed-Spending)\n",
    "\n",
    "#### 5-Cluster Model\n",
    "By adding a fifth cluster, it would appear that we have now split the (Female, Retail-Only) cluster into two, highlighting income differences within the cluster. This is also very interesting from a business and marketing perspective, and I would advocate for this 5-cluster model over the 4-cluster and absolutely over the 3-cluster model.\n",
    "\n",
    "* Segment 1 (10.0%): (Male, Mixed-Spending)   \n",
    "* Segment 2 (30.3%): (Female, Online-Only)\n",
    "* Segment 3 (21.6%): (Female, Retail-Only, Lower-Income)\n",
    "* Segment 4 (21.6%): (Female, Retail-Only, High-Income)\n",
    "* Segment 5 (16.5%): (Female, Mixed-Spending)"
   ]
  },
  {
   "cell_type": "markdown",
   "metadata": {},
   "source": [
    "#### Why use Gower over Euclidean?\n",
    "Gower Similarity Coefficient works better for data with both categorical and continous data, like the data we have here. Below we can see this in action with a comparison of the within-cluster variation."
   ]
  },
  {
   "cell_type": "code",
   "execution_count": 45,
   "metadata": {},
   "outputs": [
    {
     "data": {
      "text/plain": [
       "\n",
       "    1     2     3     4     5 \n",
       "0.303 0.216 0.165 0.100 0.216 "
      ]
     },
     "metadata": {},
     "output_type": "display_data"
    },
    {
     "data": {
      "text/html": [
       "<table>\n",
       "<thead><tr><th scope=col>clu_gower_5</th><th scope=col>spend_online</th><th scope=col>spend_retail</th><th scope=col>age</th><th scope=col>white</th><th scope=col>college</th><th scope=col>male</th><th scope=col>hh_inc</th></tr></thead>\n",
       "<tbody>\n",
       "\t<tr><td>1      </td><td>110.368</td><td>  0.033</td><td>40.370 </td><td>0.795  </td><td>0.484  </td><td>0.00   </td><td> 85.082</td></tr>\n",
       "\t<tr><td>2      </td><td>  0.092</td><td>109.311</td><td>43.560 </td><td>0.863  </td><td>0.737  </td><td>0.00   </td><td>138.454</td></tr>\n",
       "\t<tr><td>3      </td><td>190.577</td><td>197.335</td><td>40.133 </td><td>0.819  </td><td>0.578  </td><td>0.00   </td><td> 98.953</td></tr>\n",
       "\t<tr><td>4      </td><td> 75.284</td><td> 73.031</td><td>41.120 </td><td>0.722  </td><td>0.509  </td><td>0.91   </td><td> 99.229</td></tr>\n",
       "\t<tr><td>5      </td><td>  0.023</td><td> 67.223</td><td>39.509 </td><td>0.763  </td><td>0.425  </td><td>0.00   </td><td> 66.285</td></tr>\n",
       "</tbody>\n",
       "</table>\n"
      ],
      "text/latex": [
       "\\begin{tabular}{r|llllllll}\n",
       " clu\\_gower\\_5 & spend\\_online & spend\\_retail & age & white & college & male & hh\\_inc\\\\\n",
       "\\hline\n",
       "\t 1       & 110.368 &   0.033 & 40.370  & 0.795   & 0.484   & 0.00    &  85.082\\\\\n",
       "\t 2       &   0.092 & 109.311 & 43.560  & 0.863   & 0.737   & 0.00    & 138.454\\\\\n",
       "\t 3       & 190.577 & 197.335 & 40.133  & 0.819   & 0.578   & 0.00    &  98.953\\\\\n",
       "\t 4       &  75.284 &  73.031 & 41.120  & 0.722   & 0.509   & 0.91    &  99.229\\\\\n",
       "\t 5       &   0.023 &  67.223 & 39.509  & 0.763   & 0.425   & 0.00    &  66.285\\\\\n",
       "\\end{tabular}\n"
      ],
      "text/markdown": [
       "\n",
       "clu_gower_5 | spend_online | spend_retail | age | white | college | male | hh_inc | \n",
       "|---|---|---|---|---|\n",
       "| 1       | 110.368 |   0.033 | 40.370  | 0.795   | 0.484   | 0.00    |  85.082 | \n",
       "| 2       |   0.092 | 109.311 | 43.560  | 0.863   | 0.737   | 0.00    | 138.454 | \n",
       "| 3       | 190.577 | 197.335 | 40.133  | 0.819   | 0.578   | 0.00    |  98.953 | \n",
       "| 4       |  75.284 |  73.031 | 41.120  | 0.722   | 0.509   | 0.91    |  99.229 | \n",
       "| 5       |   0.023 |  67.223 | 39.509  | 0.763   | 0.425   | 0.00    |  66.285 | \n",
       "\n",
       "\n"
      ],
      "text/plain": [
       "  clu_gower_5 spend_online spend_retail age    white college male hh_inc \n",
       "1 1           110.368        0.033      40.370 0.795 0.484   0.00  85.082\n",
       "2 2             0.092      109.311      43.560 0.863 0.737   0.00 138.454\n",
       "3 3           190.577      197.335      40.133 0.819 0.578   0.00  98.953\n",
       "4 4            75.284       73.031      41.120 0.722 0.509   0.91  99.229\n",
       "5 5             0.023       67.223      39.509 0.763 0.425   0.00  66.285"
      ]
     },
     "metadata": {},
     "output_type": "display_data"
    }
   ],
   "source": [
    "# Find the percentages in each cluster\n",
    "table(DF_in$clu_gower_5)/dim(DF_in)[1]\n",
    "# Find the centroids in each cluster\n",
    "round(aggregate(cbind(spend_online, spend_retail, age, white, college, male, hh_inc) ~ clu_gower_5, data = DF_in, FUN = mean), 3)"
   ]
  },
  {
   "cell_type": "code",
   "execution_count": 73,
   "metadata": {},
   "outputs": [
    {
     "name": "stdout",
     "output_type": "stream",
     "text": [
      "[1] \"Euclid: \"         \"204113265.291787\"\n",
      "[1] \"Gower: \"          \"2953.57344321665\"\n"
     ]
    }
   ],
   "source": [
    "# Creating a matrix using Euclidean distance for 4 centroids\n",
    "distMat_euclidean <- daisy(DF, metric = 'euclidean', warnType = FALSE)\n",
    "clu_euclid_4 <- kmeans(distMat_euclidean, centers = 4, nstart = 10)\n",
    "DF_in$clu_euclid_4 <- clu_euclid_4$cluster\n",
    "\n",
    "print(c('Euclid: ', sum(clu_euclid_4$withinss)))\n",
    "print(c('Gower: ',sum(clu_gower_4$withinss)))"
   ]
  },
  {
   "cell_type": "code",
   "execution_count": null,
   "metadata": {},
   "outputs": [],
   "source": []
  }
 ],
 "metadata": {
  "kernelspec": {
   "display_name": "R",
   "language": "R",
   "name": "ir"
  },
  "language_info": {
   "codemirror_mode": "r",
   "file_extension": ".r",
   "mimetype": "text/x-r-source",
   "name": "R",
   "pygments_lexer": "r",
   "version": "3.5.1"
  }
 },
 "nbformat": 4,
 "nbformat_minor": 2
}
